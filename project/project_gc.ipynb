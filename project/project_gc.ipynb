{
 "cells": [
  {
   "cell_type": "markdown",
   "source": [
    "# Classification on Wine Quality Dataset - Model selection"
   ],
   "metadata": {
    "collapsed": false
   }
  },
  {
   "cell_type": "markdown",
   "source": [
    "## Imports"
   ],
   "metadata": {
    "collapsed": false
   }
  },
  {
   "cell_type": "code",
   "execution_count": 4,
   "outputs": [],
   "source": [
    "from tiblib import load_wine\n",
    "from tiblib.model_selection import grid_cv_multiprior\n",
    "from tiblib.preprocessing import Gaussianizer, StandardScaler, PCA\n",
    "from tiblib.classification import GaussianClassifier"
   ],
   "metadata": {
    "collapsed": false,
    "pycharm": {
     "name": "#%%\n"
    }
   }
  },
  {
   "cell_type": "markdown",
   "source": [
    "## Gaussian Classifier"
   ],
   "metadata": {
    "collapsed": false,
    "pycharm": {
     "name": "#%% md\n"
    }
   }
  },
  {
   "cell_type": "code",
   "execution_count": 2,
   "outputs": [
    {
     "name": "stdout",
     "output_type": "stream",
     "text": [
      "no_preproc\n",
      "Showing results for pi = [0.1, 0.5, 0.9]\n",
      "Full\t\t& 0.797\t& 0.313\t& 0.839\t\\\\\n",
      "Naive\t\t& 0.856\t& 0.418\t& 0.881\t\\\\\n",
      "Tied\t\t& 0.818\t& 0.338\t& 0.741\t\\\\\n",
      "Naive, Tied\t\t& 0.860\t& 0.405\t& 0.944\t\\\\\n",
      "Gaussianizer\n",
      "Showing results for pi = [0.1, 0.5, 0.9]\n",
      "Full\t\t& 0.772\t& 0.299\t& 0.772\t\\\\\n",
      "Naive\t\t& 0.863\t& 0.445\t& 0.863\t\\\\\n",
      "Tied\t\t& 0.786\t& 0.351\t& 0.849\t\\\\\n",
      "Naive, Tied\t\t& 0.866\t& 0.443\t& 0.945\t\\\\\n",
      "StandardScaler\n",
      "Showing results for pi = [0.1, 0.5, 0.9]\n",
      "Full\t\t& 0.784\t& 0.310\t& 0.855\t\\\\\n",
      "Naive\t\t& 0.867\t& 0.419\t& 0.926\t\\\\\n",
      "Tied\t\t& 0.841\t& 0.335\t& 0.759\t\\\\\n",
      "Naive, Tied\t\t& 0.868\t& 0.409\t& 0.947\t\\\\\n",
      "StandardScaler_PCA (d=9)\n",
      "Showing results for pi = [0.1, 0.5, 0.9]\n",
      "Full\t\t& 0.829\t& 0.317\t& 0.810\t\\\\\n",
      "Naive\t\t& 0.815\t& 0.393\t& 0.866\t\\\\\n",
      "Tied\t\t& 0.835\t& 0.342\t& 0.746\t\\\\\n",
      "Naive, Tied\t\t& 0.823\t& 0.339\t& 0.782\t\\\\\n",
      "StandardScaler_PCA (d=5)\n",
      "Showing results for pi = [0.1, 0.5, 0.9]\n",
      "Full\t\t& 0.865\t& 0.401\t& 0.893\t\\\\\n",
      "Naive\t\t& 0.862\t& 0.434\t& 0.898\t\\\\\n",
      "Tied\t\t& 0.854\t& 0.388\t& 0.914\t\\\\\n",
      "Naive, Tied\t\t& 0.854\t& 0.387\t& 0.923\t\\\\\n",
      "Gaussianizer_StandardScaler_PCA (d=9)\n",
      "Showing results for pi = [0.1, 0.5, 0.9]\n",
      "Full\t\t& 0.818\t& 0.306\t& 0.732\t\\\\\n",
      "Naive\t\t& 0.832\t& 0.416\t& 0.799\t\\\\\n",
      "Tied\t\t& 0.816\t& 0.359\t& 0.802\t\\\\\n",
      "Naive, Tied\t\t& 0.813\t& 0.356\t& 0.816\t\\\\\n",
      "Gaussianizer_StandardScaler_PCA (d=5)\n",
      "Showing results for pi = [0.1, 0.5, 0.9]\n",
      "Full\t\t& 0.838\t& 0.392\t& 0.877\t\\\\\n",
      "Naive\t\t& 0.874\t& 0.431\t& 0.924\t\\\\\n",
      "Tied\t\t& 0.829\t& 0.391\t& 0.980\t\\\\\n",
      "Naive, Tied\t\t& 0.822\t& 0.392\t& 0.987\t\\\\\n"
     ]
    }
   ],
   "source": [
    "X_train, X_test, y_train, y_test = load_wine()\n",
    "\n",
    "model = GaussianClassifier\n",
    "hyperparams = {'tied':[False, True],\n",
    "               'naive':[False, True]}\n",
    "\n",
    "gaussianizer = Gaussianizer()\n",
    "scaler = StandardScaler()\n",
    "pca1 = PCA(n_dims=9)\n",
    "pca2 = PCA(n_dims=5)\n",
    "preprocessings = [\n",
    "    [],\n",
    "    [gaussianizer],\n",
    "    [scaler],\n",
    "    [scaler, pca1],\n",
    "    [scaler, pca2],\n",
    "    [gaussianizer, scaler, pca1],\n",
    "    [gaussianizer, scaler, pca2],\n",
    "]\n",
    "prefix = 'gc'\n",
    "pis = [0.1, 0.5, 0.9]\n",
    "for pr in preprocessings:\n",
    "    if len(pr) > 0:\n",
    "        filename = '_'.join([str(p) for p in pr])\n",
    "    else:\n",
    "        filename = 'no_preproc'\n",
    "    print(filename) # Prints current preprocessings in string form\n",
    "    grid_cv_multiprior(X_train, y_train, pis=pis,\n",
    "            preprocessing=pr,\n",
    "            classifier=model, hyperparams=hyperparams, filename=f'results/results_{prefix}_{filename}.csv')"
   ],
   "metadata": {
    "collapsed": false,
    "pycharm": {
     "name": "#%%\n"
    }
   }
  }
 ],
 "metadata": {
  "kernelspec": {
   "name": "pycharm-d2c9f13c",
   "language": "python",
   "display_name": "PyCharm (eurecom-malis)"
  },
  "language_info": {
   "codemirror_mode": {
    "name": "ipython",
    "version": 2
   },
   "file_extension": ".py",
   "mimetype": "text/x-python",
   "name": "python",
   "nbconvert_exporter": "python",
   "pygments_lexer": "ipython2",
   "version": "2.7.6"
  }
 },
 "nbformat": 4,
 "nbformat_minor": 0
}