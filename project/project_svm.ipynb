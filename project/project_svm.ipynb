{
 "cells": [
  {
   "cell_type": "markdown",
   "source": [
    "# Classification on Wine Quality Dataset - Model selection"
   ],
   "metadata": {
    "collapsed": false
   }
  },
  {
   "cell_type": "markdown",
   "source": [
    "## Imports"
   ],
   "metadata": {
    "collapsed": false
   }
  },
  {
   "cell_type": "code",
   "execution_count": 1,
   "outputs": [],
   "source": [
    "from tiblib import load_wine\n",
    "from tiblib.model_selection import grid_cv_multiprior\n",
    "from tiblib.preprocessing import Gaussianizer, StandardScaler, PCA\n",
    "from tiblib.classification import SVC"
   ],
   "metadata": {
    "collapsed": false,
    "pycharm": {
     "name": "#%%\n"
    }
   }
  },
  {
   "cell_type": "markdown",
   "source": [
    "## SVC"
   ],
   "metadata": {
    "collapsed": false
   }
  },
  {
   "cell_type": "code",
   "execution_count": 5,
   "outputs": [
    {
     "name": "stdout",
     "output_type": "stream",
     "text": [
      "no_preproc\n",
      "Showing results for pi = [0.1, 0.5, 0.9]\n",
      "SVC (Linear, $C = 0.1$)\t\t& 0.869\t& 0.479\t& 0.886\t\\\\\n",
      "SVC (Poly, $C = 0.1$)\t\t& 1.000\t& 0.967\t& 2.697\t\\\\\n",
      "SVC (RBF, $C = 0.1$)\t\t& 1.000\t& 1.000\t& 1.034\t\\\\\n",
      "SVC (Linear, $C = 0.01$)\t\t& 0.869\t& 0.455\t& 0.998\t\\\\\n",
      "SVC (Poly, $C = 0.01$)\t\t& 1.000\t& 0.928\t& 1.065\t\\\\\n",
      "SVC (RBF, $C = 0.01$)\t\t& 1.000\t& 0.954\t& 1.081\t\\\\\n",
      "SVC (Linear, $C = 0.001$)\t\t& 0.998\t& 0.568\t& 0.982\t\\\\\n",
      "SVC (Poly, $C = 0.001$)\t\t& 1.000\t& 0.986\t& 1.050\t\\\\\n",
      "SVC (RBF, $C = 0.001$)\t\t& 1.000\t& 0.993\t& 1.050\t\\\\\n",
      "SVC (Linear, $C = 0.0001$)\t\t& 1.000\t& 0.715\t& 0.998\t\\\\\n",
      "SVC (Poly, $C = 0.0001$)\t\t& 1.000\t& 0.991\t& 1.034\t\\\\\n",
      "SVC (RBF, $C = 0.0001$)\t\t& 1.000\t& 0.985\t& 1.065\t\\\\\n",
      "Gaussianizer\n",
      "Showing results for pi = [0.1, 0.5, 0.9]\n",
      "SVC (Linear, $C = 0.1$)\t\t& 0.825\t& 0.351\t& 0.780\t\\\\\n",
      "SVC (Poly, $C = 0.1$)\t\t& 1.000\t& 0.967\t& 2.588\t\\\\\n",
      "SVC (RBF, $C = 0.1$)\t\t& 1.000\t& 0.992\t& 1.065\t\\\\\n",
      "SVC (Linear, $C = 0.01$)\t\t& 0.813\t& 0.364\t& 0.825\t\\\\\n",
      "SVC (Poly, $C = 0.01$)\t\t& 1.000\t& 0.974\t& 1.127\t\\\\\n",
      "SVC (RBF, $C = 0.01$)\t\t& 1.000\t& 0.969\t& 1.081\t\\\\\n",
      "SVC (Linear, $C = 0.001$)\t\t& 0.825\t& 0.400\t& 0.888\t\\\\\n",
      "SVC (Poly, $C = 0.001$)\t\t& 1.000\t& 1.000\t& 1.065\t\\\\\n",
      "SVC (RBF, $C = 0.001$)\t\t& 1.000\t& 0.985\t& 1.034\t\\\\\n",
      "SVC (Linear, $C = 0.0001$)\t\t& 0.882\t& 0.449\t& 0.956\t\\\\\n",
      "SVC (Poly, $C = 0.0001$)\t\t& 1.000\t& 0.993\t& 1.065\t\\\\\n",
      "SVC (RBF, $C = 0.0001$)\t\t& 1.000\t& 0.966\t& 1.081\t\\\\\n",
      "StandardScaler\n",
      "Showing results for pi = [0.1, 0.5, 0.9]\n",
      "SVC (Linear, $C = 0.1$)\t\t& 0.847\t& 0.337\t& 0.662\t\\\\\n",
      "SVC (Poly, $C = 0.1$)\t\t& 0.998\t& 0.967\t& 1.015\t\\\\\n",
      "SVC (RBF, $C = 0.1$)\t\t& 1.000\t& 0.989\t& 1.050\t\\\\\n",
      "SVC (Linear, $C = 0.01$)\t\t& 0.847\t& 0.344\t& 0.790\t\\\\\n",
      "SVC (Poly, $C = 0.01$)\t\t& 0.998\t& 0.962\t& 1.112\t\\\\\n",
      "SVC (RBF, $C = 0.01$)\t\t& 1.000\t& 0.971\t& 1.096\t\\\\\n",
      "SVC (Linear, $C = 0.001$)\t\t& 0.842\t& 0.370\t& 0.892\t\\\\\n",
      "SVC (Poly, $C = 0.001$)\t\t& 0.998\t& 0.998\t& 1.050\t\\\\\n",
      "SVC (RBF, $C = 0.001$)\t\t& 1.000\t& 0.949\t& 1.081\t\\\\\n",
      "SVC (Linear, $C = 0.0001$)\t\t& 0.877\t& 0.419\t& 0.931\t\\\\\n",
      "SVC (Poly, $C = 0.0001$)\t\t& 1.000\t& 0.980\t& 1.034\t\\\\\n",
      "SVC (RBF, $C = 0.0001$)\t\t& 1.000\t& 0.971\t& 1.112\t\\\\\n"
     ]
    }
   ],
   "source": [
    "X_train, X_test, y_train, y_test = load_wine()\n",
    "\n",
    "model = SVC\n",
    "hyperparams = {'C':[1e-1, 1e-2, 1e-3, 1e-4],\n",
    "               'kernel': ['linear', 'poly', 'radial']}\n",
    "prefix = 'svm'\n",
    "pis = [0.1, 0.5, 0.9]\n",
    "gaussianizer = Gaussianizer()\n",
    "scaler = StandardScaler()\n",
    "pca1 = PCA(n_dims=9)\n",
    "pca2 = PCA(n_dims=5)\n",
    "preprocessings = [\n",
    "    [],\n",
    "    [gaussianizer],\n",
    "    [scaler],\n",
    "]\n",
    "for pr in preprocessings:\n",
    "    if len(pr) > 0:\n",
    "        filename = '_'.join([str(p) for p in pr])\n",
    "    else:\n",
    "        filename = 'no_preproc'\n",
    "    print(filename) # Prints current preprocessings in string form\n",
    "    grid_cv_multiprior(X_train, y_train, pis=pis,\n",
    "            preprocessing=pr,\n",
    "            classifier=model, hyperparams=hyperparams, filename=f'results/results_{prefix}_{filename}.csv')"
   ],
   "metadata": {
    "collapsed": false,
    "pycharm": {
     "name": "#%%\n"
    }
   }
  }
 ],
 "metadata": {
  "kernelspec": {
   "name": "pycharm-d2c9f13c",
   "language": "python",
   "display_name": "PyCharm (eurecom-malis)"
  },
  "language_info": {
   "codemirror_mode": {
    "name": "ipython",
    "version": 2
   },
   "file_extension": ".py",
   "mimetype": "text/x-python",
   "name": "python",
   "nbconvert_exporter": "python",
   "pygments_lexer": "ipython2",
   "version": "2.7.6"
  }
 },
 "nbformat": 4,
 "nbformat_minor": 0
}