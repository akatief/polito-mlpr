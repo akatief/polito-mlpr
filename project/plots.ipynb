{
 "cells": [
  {
   "cell_type": "markdown",
   "source": [
    "# Classification on Wine Quality Dataset - Plots"
   ],
   "metadata": {
    "collapsed": false
   }
  },
  {
   "cell_type": "markdown",
   "metadata": {
    "collapsed": true,
    "pycharm": {
     "name": "#%% md\n"
    }
   },
   "source": [
    "## Logistic Regression"
   ]
  },
  {
   "cell_type": "code",
   "execution_count": 1,
   "outputs": [
    {
     "name": "stderr",
     "output_type": "stream",
     "text": [
      "\n",
      "KeyboardInterrupt\n",
      "\n"
     ]
    },
    {
     "name": "stdout",
     "output_type": "stream",
     "text": [
      "Error in callback <function flush_figures at 0x0000020E94C14700> (for post_execute):\n"
     ]
    },
    {
     "name": "stderr",
     "output_type": "stream",
     "text": [
      "\n",
      "KeyboardInterrupt\n",
      "\n"
     ]
    }
   ],
   "source": [
    "import matplotlib.pyplot as plt\n",
    "import pandas as pd\n",
    "\n",
    "filenames = ['no_preproc', 'StandardScaler', 'StandardScaler_PCA (d=9)', 'StandardScaler_PCA (d=5)']\n",
    "titles = ['No preprocessing', 'StandardScaler', 'StandardScaler, PCA ($d=9$)', 'StandardScaler, PCA ($d=5$)']\n",
    "fig, axs = plt.subplots(2,2)\n",
    "fig.set_figheight(10)\n",
    "fig.set_figwidth(15)\n",
    "fig.tight_layout(pad=3)\n",
    "fig.set_dpi(600)\n",
    "for ax, prep, t in zip(axs.reshape(-1), filenames, titles):\n",
    "    d1 = pd.read_csv(f'results/results_lr_{prep}.csv')\n",
    "    d2 = pd.read_csv(f'results/results_qlr_{prep}.csv')\n",
    "\n",
    "    d1 = d1[d1['Prior'] == 0.5][['l','Min DCF']]\n",
    "    d2 = d2[d2['Prior'] == 0.5][['l','Min DCF']]\n",
    "\n",
    "    ax.set_ylim([0.25, 0.45])\n",
    "    ax.title.set_text(t)\n",
    "    ax.set_xlabel('$\\lambda$', fontsize=12)\n",
    "    ax.xaxis.set_label_coords(.5, -.05)\n",
    "    ax.tick_params(axis='x', which='major', labelsize=12)\n",
    "    ax.semilogx(d1['l'], d1['Min DCF'], label='LogReg',  linewidth=2.5)\n",
    "    ax.semilogx(d2['l'], d2['Min DCF'], label='QuadLogReg',  linewidth=2.5)\n",
    "    ax.legend()\n",
    "plt.savefig('images/logreg_lambda.png')"
   ],
   "metadata": {
    "collapsed": false,
    "pycharm": {
     "name": "#%%\n"
    }
   }
  },
  {
   "cell_type": "markdown",
   "source": [
    "## GMM"
   ],
   "metadata": {
    "collapsed": false
   }
  },
  {
   "cell_type": "code",
   "execution_count": null,
   "outputs": [],
   "source": [
    "import matplotlib.pyplot as plt\n",
    "import pandas as pd\n",
    "\n",
    "filenames = ['no_preproc', 'StandardScaler', 'Gaussianizer']\n",
    "titles = ['No preprocessing', 'StandardScaler', 'Gaussianizer']\n",
    "fig, axs = plt.subplots(2,2)\n",
    "fig.set_figheight(10)\n",
    "fig.set_figwidth(15)\n",
    "fig.tight_layout(pad=5)\n",
    "fig.set_dpi(600)\n",
    "fig.delaxes(axs[1][1])\n",
    "for ax, prep, t in zip(axs.reshape(-1), filenames, titles):\n",
    "    d = pd.read_csv(f'results/results_gmm_{prep}.csv')\n",
    "    d = d[(d['Prior'] == 0.5) & (d['alpha'] == 1)][['Min DCF', 'n_components','tied','diag']]\n",
    "\n",
    "    dF = d[(d['tied'] == False) & (d['diag'] == False)]\n",
    "    dD = d[(d['tied'] == False) & (d['diag'] == True)]\n",
    "    dT = d[(d['tied'] == True) & (d['diag'] == False)]\n",
    "    dDT = d[(d['tied'] == True) & (d['diag'] == True)]\n",
    "\n",
    "    ax.set_ylim([0.25, 0.45])\n",
    "    ax.title.set_text(t)\n",
    "    ax.set_xlabel('Number of components', fontsize=12)\n",
    "    ax.xaxis.set_label_coords(0.5, -0.1)\n",
    "    ax.tick_params(axis='x', which='major', labelsize=12)\n",
    "\n",
    "    ax.plot(dF['n_components'], dF['Min DCF'], label='Full Cov',  linewidth=2.5)\n",
    "    ax.plot(dD['n_components'], dD['Min DCF'], label='Diag Cov',  linewidth=2.5)\n",
    "    ax.plot(dT['n_components'], dT['Min DCF'], label='Tied Cov',  linewidth=2.5)\n",
    "    ax.plot(dDT['n_components'], dDT['Min DCF'], label='Diag Tied Cov',  linewidth=2.5)\n",
    "\n",
    "    ax.legend()\n",
    "\n",
    "plt.savefig('images/gmm_c.png')"
   ],
   "metadata": {
    "collapsed": false,
    "pycharm": {
     "name": "#%%\n"
    }
   }
  },
  {
   "cell_type": "markdown",
   "source": [
    "## SVM - C"
   ],
   "metadata": {
    "collapsed": false
   }
  },
  {
   "cell_type": "code",
   "execution_count": null,
   "outputs": [],
   "source": [
    "import matplotlib.pyplot as plt\n",
    "import pandas as pd\n",
    "\n",
    "filenames = ['no_preproc', 'StandardScaler', 'Gaussianizer']\n",
    "titles = ['No preprocessing', 'StandardScaler', 'Gaussianizer']\n",
    "fig, axs = plt.subplots(2,2)\n",
    "fig.set_figheight(10)\n",
    "fig.set_figwidth(15)\n",
    "fig.tight_layout(pad=5)\n",
    "fig.set_dpi(600)\n",
    "fig.delaxes(axs[1][1])\n",
    "for ax, prep, t in zip(axs.reshape(-1), filenames, titles):\n",
    "    d1 = pd.read_csv(f'results/results_svm_{prep}.csv')\n",
    "    d2 = pd.read_csv(f'results/results_svm_rbf_{prep}.csv')\n",
    "\n",
    "    dlin = d1[(d1['Prior'] == 0.5) & (d1['kernel'] == 'linear')][['Min DCF', 'C']]\n",
    "    dpoly = d1[(d1['Prior'] == 0.5) & (d1['kernel'] == 'poly')][['Min DCF', 'C']]\n",
    "    drbf = d2[(d2['Prior'] == 0.5) & (d2['gamma'] == 0.1353352832366127)][['Min DCF', 'C']]\n",
    "\n",
    "    ax.title.set_text(t)\n",
    "    ax.set_xlabel('C', fontsize=12)\n",
    "    ax.xaxis.set_label_coords(0.5, -0.1)\n",
    "    ax.tick_params(axis='x', which='major', labelsize=12)\n",
    "\n",
    "    ax.semilogx(dlin['C'], dlin['Min DCF'], label='Linear',  linewidth=2.5)\n",
    "    ax.semilogx(dpoly['C'], dpoly['Min DCF'], label='Polynomial',  linewidth=2.5)\n",
    "    ax.semilogx(drbf['C'], drbf['Min DCF'], label='RBF ($\\log \\gamma = -2$)',  linewidth=2.5)\n",
    "\n",
    "    ax.legend()\n",
    "plt.savefig('images/svc_c.png')"
   ],
   "metadata": {
    "collapsed": false,
    "pycharm": {
     "name": "#%%\n"
    }
   }
  },
  {
   "cell_type": "markdown",
   "source": [
    "## SVM - Gamma"
   ],
   "metadata": {
    "collapsed": false
   }
  },
  {
   "cell_type": "code",
   "execution_count": null,
   "outputs": [],
   "source": [
    "\n",
    "import matplotlib.pyplot as plt\n",
    "import pandas as pd\n",
    "\n",
    "filenames = ['no_preproc', 'StandardScaler', 'Gaussianizer']\n",
    "titles = ['No preprocessing', 'StandardScaler', 'Gaussianizer']\n",
    "fig, axs = plt.subplots(2,2)\n",
    "fig.set_figheight(10)\n",
    "fig.set_figwidth(15)\n",
    "fig.tight_layout(pad=5)\n",
    "fig.set_dpi(600)\n",
    "fig.delaxes(axs[1][1])\n",
    "for ax, prep, t in zip(axs.reshape(-1), filenames, titles):\n",
    "    d = pd.read_csv(f'results/results_svm_rbf_{prep}.csv')\n",
    "\n",
    "    dg1 = d[(d['Prior'] == 0.5) & (d['gamma'] == 0.3678794411714423)][['Min DCF', 'C']]\n",
    "    dg2 = d[(d['Prior'] == 0.5) & (d['gamma'] == 0.1353352832366127)][['Min DCF', 'C']]\n",
    "    dg3 = d[(d['Prior'] == 0.5) & (d['gamma'] == 0.0497870683678639)][['Min DCF', 'C']]\n",
    "\n",
    "    ax.title.set_text(t)\n",
    "    ax.set_xlabel('C (log scale)', fontsize=12)\n",
    "    ax.xaxis.set_label_coords(0.5, -0.1)\n",
    "    ax.tick_params(axis='x', which='major', labelsize=12)\n",
    "\n",
    "    ax.semilogx(dg1['C'], dg1['Min DCF'], label='$\\log \\gamma = -1$',  linewidth=2.5)\n",
    "    ax.semilogx(dg2['C'], dg2['Min DCF'], label='$\\log \\gamma = -2$',  linewidth=2.5)\n",
    "    ax.semilogx(dg3['C'], dg3['Min DCF'], label='$\\log \\gamma = -3$',  linewidth=2.5)\n",
    "\n",
    "    ax.legend()\n",
    "plt.savefig('images/svc_g.png')"
   ],
   "metadata": {
    "collapsed": false,
    "pycharm": {
     "name": "#%%\n"
    }
   }
  },
  {
   "cell_type": "markdown",
   "source": [
    "## DCF Curves - Uncalibrated vs Calibrated"
   ],
   "metadata": {
    "collapsed": false
   }
  },
  {
   "cell_type": "code",
   "execution_count": null,
   "outputs": [],
   "source": [
    "from tiblib.visualization import multiplot_dcf\n",
    "import numpy as np\n",
    "from tiblib import load_wine\n",
    "print('Running...')\n",
    "X_train, _, y_train, _ = load_wine()\n",
    "scores = []\n",
    "model_names = ['svm2', 'qlr1', 'gmm1']\n",
    "plot_names = ['SVM ($C = 1$, $ \\log \\gamma =-1 $) with StandardScaler',\n",
    "              'QLR with StandardScaler',\n",
    "              'GMM Full Covariance ($C = 8$) with StandardScaler']\n",
    "for n in model_names:\n",
    "    scores.append(np.load(f'results/scores_{n}.npy').reshape(-1,1))\n",
    "scores = np.concatenate(scores, axis=1)\n",
    "multiplot_dcf(scores, y_train, plot_names=plot_names, filename=f'dcf_best_uncal', save=True)"
   ],
   "metadata": {
    "collapsed": false,
    "pycharm": {
     "name": "#%%\n"
    }
   }
  },
  {
   "cell_type": "code",
   "execution_count": null,
   "outputs": [],
   "source": [
    "from tiblib.visualization import multiplot_dcf\n",
    "import numpy as np\n",
    "from tiblib import load_wine\n",
    "print('Running...')\n",
    "X_train, _, y_train, _ = load_wine()\n",
    "scores = []\n",
    "model_names = ['svm2', 'qlr1', 'gmm1']\n",
    "plot_names = ['SVM ($C = 1$, $ \\log \\gamma =-1 $) with StandardScaler',\n",
    "              'QLR with StandardScaler',\n",
    "              'GMM Full Covariance ($C = 8$) with StandardScaler']\n",
    "for n in model_names:\n",
    "    scores.append(np.load(f'results/cal_scores_{n}.npy').reshape(-1,1))\n",
    "scores = np.concatenate(scores, axis=1)\n",
    "multiplot_dcf(scores, y_train, plot_names=plot_names, filename=f'dcf_best_cal', save=True)"
   ],
   "metadata": {
    "collapsed": false,
    "pycharm": {
     "name": "#%%\n"
    }
   }
  },
  {
   "cell_type": "markdown",
   "source": [
    "## DCF Curves - Fusions"
   ],
   "metadata": {
    "collapsed": false
   }
  },
  {
   "cell_type": "code",
   "execution_count": null,
   "outputs": [],
   "source": [
    "from tiblib.visualization import multiplot_dcf\n",
    "import numpy as np\n",
    "from tiblib import load_wine\n",
    "print('Running...')\n",
    "X_train, _, y_train, _ = load_wine()\n",
    "scores = []\n",
    "model_names = ['svm2_qlr1_gmm1', 'svm2_qlr1', 'svm2_gmm1', 'qlr1_gmm1']\n",
    "plot_names = ['QLR + SVM + GMM',\n",
    "              'QLR + SVM',\n",
    "              'SVM + GMM',\n",
    "              'QLR + GMM']\n",
    "for n in model_names:\n",
    "    scores.append(np.load(f'results/fusion_scores_{n}.npy').reshape(-1,1))\n",
    "scores = np.concatenate(scores, axis=1)\n",
    "multiplot_dcf(scores, y_train, plot_names=plot_names, filename=f'dcf_fusion_cal', save=True)"
   ],
   "metadata": {
    "collapsed": false,
    "pycharm": {
     "name": "#%%\n"
    }
   }
  },
  {
   "cell_type": "markdown",
   "source": [
    "## DCF Curves - Evaluation"
   ],
   "metadata": {
    "collapsed": false
   }
  },
  {
   "cell_type": "code",
   "execution_count": null,
   "outputs": [],
   "source": [
    "from tiblib.visualization import multiplot_dcf\n",
    "import numpy as np\n",
    "print('Running...')\n",
    "_, _, _, y_test = load_wine()\n",
    "\n",
    "scores = []\n",
    "model_names = ['QLR', 'SVM', 'GMM', 'fusion_QLR_SVM_GMM']\n",
    "plot_names = ['QLR', 'SVM', 'GMM', 'QLR + SVM + GMM']\n",
    "for n in model_names:\n",
    "    scores.append(np.load(f'results/eval_{n}.npy').reshape(-1,1))\n",
    "scores = np.concatenate(scores, axis=1)\n",
    "multiplot_dcf(scores, y_test, plot_names=plot_names, filename=f'dcf_eval_uncal', save=True)"
   ],
   "metadata": {
    "collapsed": false,
    "pycharm": {
     "name": "#%%\n"
    }
   }
  },
  {
   "cell_type": "code",
   "execution_count": null,
   "outputs": [],
   "source": [
    "from tiblib.visualization import multiplot_dcf\n",
    "import numpy as np\n",
    "print('Running...')\n",
    "_, _, _, y_test = load_wine()\n",
    "\n",
    "scores = []\n",
    "model_names = ['QLR', 'SVM', 'GMM', 'fusion_QLR_SVM_GMM']\n",
    "plot_names = ['QLR', 'SVM', 'GMM', 'QLR + SVM + GMM']\n",
    "for n in model_names:\n",
    "    scores.append(np.load(f'results/eval_cal_{n}.npy').reshape(-1,1))\n",
    "scores = np.concatenate(scores, axis=1)\n",
    "multiplot_dcf(scores, y_test, plot_names=plot_names, filename=f'dcf_eval_cal', save=True)\n"
   ],
   "metadata": {
    "collapsed": false,
    "pycharm": {
     "name": "#%%\n"
    }
   }
  },
  {
   "cell_type": "markdown",
   "source": [
    "## ROC Curve - Evaluation"
   ],
   "metadata": {
    "collapsed": false
   }
  },
  {
   "cell_type": "code",
   "execution_count": 1,
   "outputs": [
    {
     "data": {
      "text/plain": "<Figure size 640x480 with 1 Axes>",
      "image/png": "[encoded data removed]"
     },
     "metadata": {},
     "output_type": "display_data"
    }
   ],
   "source": [
    "import numpy as np\n",
    "from tiblib import load_wine\n",
    "from tiblib.visualization import plot_roc\n",
    "\n",
    "_, _, _, y_test = load_wine()\n",
    "\n",
    "scores = []\n",
    "model_names = ['QLR', 'SVM', 'GMM', 'fusion_QLR_SVM_GMM']\n",
    "plot_names = ['QLR', 'SVM', 'GMM', 'QLR + SVM + GMM']\n",
    "for n in model_names:\n",
    "    scores.append(np.load(f'results/eval_cal_{n}.npy').reshape(-1,1))\n",
    "scores = np.concatenate(scores, axis=1)\n",
    "plot_roc(scores, y_test, plot_names, 'evaluation_roc')"
   ],
   "metadata": {
    "collapsed": false,
    "pycharm": {
     "name": "#%%\n"
    }
   }
  }
 ],
 "metadata": {
  "kernelspec": {
   "name": "pycharm-d2c9f13c",
   "language": "python",
   "display_name": "PyCharm (eurecom-malis)"
  },
  "language_info": {
   "codemirror_mode": {
    "name": "ipython",
    "version": 2
   },
   "file_extension": ".py",
   "mimetype": "text/x-python",
   "name": "python",
   "nbconvert_exporter": "python",
   "pygments_lexer": "ipython2",
   "version": "2.7.6"
  }
 },
 "nbformat": 4,
 "nbformat_minor": 0
}