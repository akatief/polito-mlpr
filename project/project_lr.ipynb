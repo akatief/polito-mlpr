{
 "cells": [
  {
   "cell_type": "markdown",
   "source": [
    "# Classification on Wine Quality Dataset - Model selection"
   ],
   "metadata": {
    "collapsed": false
   }
  },
  {
   "cell_type": "markdown",
   "source": [
    "## Imports"
   ],
   "metadata": {
    "collapsed": false
   }
  },
  {
   "cell_type": "code",
   "execution_count": 1,
   "outputs": [],
   "source": [
    "from tiblib import load_wine\n",
    "from tiblib.model_selection import grid_cv_multiprior\n",
    "from tiblib.preprocessing import Gaussianizer, StandardScaler, PCA\n",
    "from tiblib.classification import LogisticRegression\n",
    "from tiblib.classification import QuadraticLogisticRegression"
   ],
   "metadata": {
    "collapsed": false,
    "pycharm": {
     "name": "#%%\n"
    }
   }
  },
  {
   "cell_type": "markdown",
   "source": [
    "## Logistic Regression"
   ],
   "metadata": {
    "collapsed": false
   }
  },
  {
   "cell_type": "code",
   "execution_count": 3,
   "outputs": [
    {
     "name": "stdout",
     "output_type": "stream",
     "text": [
      "no_preproc\n",
      "Showing results for pi = [0.1, 0.5, 0.9]\n",
      "LogReg ($\\lambda = 0.1$)\t\t& 0.874\t& 0.423\t& 0.974\t\\\\\n",
      "LogReg ($\\lambda = 0.01$)\t\t& 0.844\t& 0.400\t& 0.816\t\\\\\n",
      "LogReg ($\\lambda = 0.001$)\t\t& 0.826\t& 0.354\t& 0.684\t\\\\\n",
      "LogReg ($\\lambda = 0.0001$)\t\t& 0.856\t& 0.360\t& 0.643\t\\\\\n",
      "StandardScaler\n",
      "Showing results for pi = [0.1, 0.5, 0.9]\n",
      "LogReg ($\\lambda = 0.1$)\t\t& 0.851\t& 0.355\t& 0.808\t\\\\\n",
      "LogReg ($\\lambda = 0.01$)\t\t& 0.845\t& 0.351\t& 0.666\t\\\\\n",
      "LogReg ($\\lambda = 0.001$)\t\t& 0.847\t& 0.358\t& 0.693\t\\\\\n",
      "LogReg ($\\lambda = 0.0001$)\t\t& 0.852\t& 0.356\t& 0.666\t\\\\\n",
      "StandardScaler_PCA (d=9)\n",
      "Showing results for pi = [0.1, 0.5, 0.9]\n",
      "LogReg ($\\lambda = 0.1$)\t\t& 0.842\t& 0.356\t& 0.779\t\\\\\n",
      "LogReg ($\\lambda = 0.01$)\t\t& 0.845\t& 0.347\t& 0.660\t\\\\\n",
      "LogReg ($\\lambda = 0.001$)\t\t& 0.854\t& 0.361\t& 0.670\t\\\\\n",
      "LogReg ($\\lambda = 0.0001$)\t\t& 0.840\t& 0.352\t& 0.661\t\\\\\n",
      "StandardScaler_PCA (d=5)\n",
      "Showing results for pi = [0.1, 0.5, 0.9]\n",
      "LogReg ($\\lambda = 0.1$)\t\t& 0.844\t& 0.387\t& 0.881\t\\\\\n",
      "LogReg ($\\lambda = 0.01$)\t\t& 0.856\t& 0.383\t& 0.847\t\\\\\n",
      "LogReg ($\\lambda = 0.001$)\t\t& 0.847\t& 0.381\t& 0.843\t\\\\\n",
      "LogReg ($\\lambda = 0.0001$)\t\t& 0.844\t& 0.388\t& 0.848\t\\\\\n"
     ]
    }
   ],
   "source": [
    "\n",
    "X_train, X_test, y_train, y_test = load_wine()\n",
    "\n",
    "model = LogisticRegression\n",
    "hyperparams = {'l':[1e-1, 1e-2, 1e-3, 1e-4]}\n",
    "\n",
    "gaussianizer = Gaussianizer()\n",
    "scaler = StandardScaler()\n",
    "pca1 = PCA(n_dims=9)\n",
    "pca2 = PCA(n_dims=5)\n",
    "preprocessings = [\n",
    "    [],\n",
    "    [scaler],\n",
    "    [scaler, pca1],\n",
    "    [scaler, pca2]\n",
    "]\n",
    "prefix = 'lr'\n",
    "pis = [0.1, 0.5, 0.9]\n",
    "for pr in preprocessings:\n",
    "    if len(pr) > 0:\n",
    "        filename = '_'.join([str(p) for p in pr])\n",
    "    else:\n",
    "        filename = 'no_preproc'\n",
    "    print(filename) # Prints current preprocessings in string form\n",
    "    grid_cv_multiprior(X_train, y_train, pis=pis,\n",
    "            preprocessing=pr,\n",
    "            classifier=model, hyperparams=hyperparams, filename=f'results/results_{prefix}_{filename}.csv')"
   ],
   "metadata": {
    "collapsed": false,
    "pycharm": {
     "name": "#%%\n"
    }
   }
  },
  {
   "cell_type": "markdown",
   "source": [
    "## Quadratic Logistic Regression"
   ],
   "metadata": {
    "collapsed": false
   }
  },
  {
   "cell_type": "code",
   "execution_count": 3,
   "outputs": [
    {
     "name": "stdout",
     "output_type": "stream",
     "text": [
      "no_preproc\n",
      "Showing results for pi = [0.1, 0.5, 0.9]\n",
      "QuadLogReg ($\\lambda = 0.1$)\t\t& 0.858\t& 0.394\t& 0.848\t\\\\\n",
      "QuadLogReg ($\\lambda = 0.01$)\t\t& 0.838\t& 0.387\t& 0.811\t\\\\\n",
      "QuadLogReg ($\\lambda = 0.001$)\t\t& 0.830\t& 0.390\t& 0.840\t\\\\\n",
      "QuadLogReg ($\\lambda = 0.0001$)\t\t& 0.865\t& 0.375\t& 0.842\t\\\\\n",
      "StandardScaler\n",
      "Showing results for pi = [0.1, 0.5, 0.9]\n",
      "QuadLogReg ($\\lambda = 0.1$)\t\t& 0.811\t& 0.316\t& 0.795\t\\\\\n",
      "QuadLogReg ($\\lambda = 0.01$)\t\t& 0.807\t& 0.292\t& 0.670\t\\\\\n",
      "QuadLogReg ($\\lambda = 0.001$)\t\t& 0.814\t& 0.268\t& 0.635\t\\\\\n",
      "QuadLogReg ($\\lambda = 0.0001$)\t\t& 0.739\t& 0.287\t& 0.645\t\\\\\n",
      "StandardScaler_PCA (d=9)\n",
      "Showing results for pi = [0.1, 0.5, 0.9]\n",
      "QuadLogReg ($\\lambda = 0.1$)\t\t& 0.843\t& 0.318\t& 0.796\t\\\\\n",
      "QuadLogReg ($\\lambda = 0.01$)\t\t& 0.792\t& 0.299\t& 0.706\t\\\\\n",
      "QuadLogReg ($\\lambda = 0.001$)\t\t& 0.804\t& 0.284\t& 0.669\t\\\\\n",
      "QuadLogReg ($\\lambda = 0.0001$)\t\t& 0.819\t& 0.297\t& 0.758\t\\\\\n",
      "StandardScaler_PCA (d=5)\n",
      "Showing results for pi = [0.1, 0.5, 0.9]\n",
      "QuadLogReg ($\\lambda = 0.1$)\t\t& 0.838\t& 0.356\t& 0.896\t\\\\\n",
      "QuadLogReg ($\\lambda = 0.01$)\t\t& 0.818\t& 0.334\t& 0.825\t\\\\\n",
      "QuadLogReg ($\\lambda = 0.001$)\t\t& 0.838\t& 0.339\t& 0.821\t\\\\\n",
      "QuadLogReg ($\\lambda = 0.0001$)\t\t& 0.861\t& 0.341\t& 0.821\t\\\\\n"
     ]
    }
   ],
   "source": [
    "X_train, X_test, y_train, y_test = load_wine()\n",
    "\n",
    "model = QuadraticLogisticRegression\n",
    "hyperparams = {'l':[1e-1, 1e-2, 1e-3, 1e-4]}\n",
    "\n",
    "gaussianizer = Gaussianizer()\n",
    "scaler = StandardScaler()\n",
    "pca1 = PCA(n_dims=9)\n",
    "pca2 = PCA(n_dims=5)\n",
    "preprocessings = [\n",
    "    [],\n",
    "    [scaler],\n",
    "    [scaler, pca1],\n",
    "    [scaler, pca2]\n",
    "]\n",
    "prefix = 'lr'\n",
    "pis = [0.1, 0.5, 0.9]\n",
    "for pr in preprocessings:\n",
    "    if len(pr) > 0:\n",
    "        filename = '_'.join([str(p) for p in pr])\n",
    "    else:\n",
    "        filename = 'no_preproc'\n",
    "    print(filename) # Prints current preprocessings in string form\n",
    "    grid_cv_multiprior(X_train, y_train, pis=pis,\n",
    "            preprocessing=pr,\n",
    "            classifier=model, hyperparams=hyperparams, filename=f'results/results_{prefix}_{filename}.csv')\n"
   ],
   "metadata": {
    "collapsed": false,
    "pycharm": {
     "name": "#%%\n"
    }
   }
  }
 ],
 "metadata": {
  "kernelspec": {
   "name": "pycharm-d2c9f13c",
   "language": "python",
   "display_name": "PyCharm (eurecom-malis)"
  },
  "language_info": {
   "codemirror_mode": {
    "name": "ipython",
    "version": 2
   },
   "file_extension": ".py",
   "mimetype": "text/x-python",
   "name": "python",
   "nbconvert_exporter": "python",
   "pygments_lexer": "ipython2",
   "version": "2.7.6"
  }
 },
 "nbformat": 4,
 "nbformat_minor": 0
}