{
 "cells": [
  {
   "cell_type": "markdown",
   "source": [
    "# Classification on Wine Quality Dataset - Model selection"
   ],
   "metadata": {
    "collapsed": false
   }
  },
  {
   "cell_type": "markdown",
   "source": [
    "## Imports"
   ],
   "metadata": {
    "collapsed": false
   }
  },
  {
   "cell_type": "code",
   "execution_count": 1,
   "outputs": [],
   "source": [
    "from tiblib import load_wine\n",
    "from tiblib.model_selection import grid_cv_multiprior\n",
    "from tiblib.preprocessing import Gaussianizer, StandardScaler, PCA"
   ],
   "metadata": {
    "collapsed": false,
    "pycharm": {
     "name": "#%%\n"
    }
   }
  },
  {
   "cell_type": "markdown",
   "source": [
    "## GMM"
   ],
   "metadata": {
    "collapsed": false
   }
  },
  {
   "cell_type": "code",
   "execution_count": null,
   "outputs": [
    {
     "name": "stdout",
     "output_type": "stream",
     "text": [
      "no_preproc\n",
      "Showing results for pi = [0.1, 0.5, 0.9]\n",
      "GMM (4 components, $\\alpha = 0.1$)\t\t& 0.812\t& 0.326\t& 0.748\t\\\\\n",
      "GMM (4 components, $\\alpha = 0.5$)\t\t& 0.847\t& 0.327\t& 0.695\t\\\\\n",
      "GMM (4 components, $\\alpha = 1$)\t\t& 0.772\t& 0.321\t& 0.740\t\\\\\n",
      "GMM (8 components, $\\alpha = 0.1$)\t\t& 0.842\t& 0.330\t& 0.786\t\\\\\n",
      "GMM (8 components, $\\alpha = 0.5$)\t\t& 0.784\t& 0.325\t& 0.802\t\\\\\n",
      "GMM (8 components, $\\alpha = 1$)\t\t& 0.725\t& 0.300\t& 0.775\t\\\\\n",
      "GMM (16 components, $\\alpha = 0.1$)\t\t& 0.850\t& 0.350\t& 0.893\t\\\\\n",
      "GMM (16 components, $\\alpha = 0.5$)\t\t& 0.830\t& 0.346\t& 0.950\t\\\\\n",
      "GMM (16 components, $\\alpha = 1$)\t\t& 0.679\t& 0.303\t& 0.852\t\\\\\n",
      "GMM (Diag, 4 components, $\\alpha = 0.1$)\t\t& 0.801\t& 0.400\t& 0.847\t\\\\\n",
      "GMM (Diag, 4 components, $\\alpha = 0.5$)\t\t& 0.865\t& 0.376\t& 0.828\t\\\\\n",
      "GMM (Diag, 4 components, $\\alpha = 1$)\t\t& 0.837\t& 0.316\t& 0.781\t\\\\\n",
      "GMM (Diag, 8 components, $\\alpha = 0.1$)\t\t& 0.894\t& 0.388\t& 0.852\t\\\\\n",
      "GMM (Diag, 8 components, $\\alpha = 0.5$)\t\t& 0.851\t& 0.375\t& 0.839\t\\\\\n",
      "GMM (Diag, 8 components, $\\alpha = 1$)\t\t& 0.787\t& 0.336\t& 0.746\t\\\\\n",
      "GMM (Diag, 16 components, $\\alpha = 0.1$)\t\t& 0.894\t& 0.405\t& 0.827\t\\\\\n",
      "GMM (Diag, 16 components, $\\alpha = 0.5$)\t\t& 0.825\t& 0.369\t& 0.843\t\\\\\n",
      "GMM (Diag, 16 components, $\\alpha = 1$)\t\t& 0.751\t& 0.311\t& 0.796\t\\\\\n",
      "GMM (Tied, 4 components, $\\alpha = 0.1$)\t\t& 0.815\t& 0.350\t& 0.823\t\\\\\n",
      "GMM (Tied, 4 components, $\\alpha = 0.5$)\t\t& 0.820\t& 0.350\t& 0.718\t\\\\\n",
      "GMM (Tied, 4 components, $\\alpha = 1$)\t\t& 0.815\t& 0.334\t& 0.723\t\\\\\n",
      "GMM (Tied, 8 components, $\\alpha = 0.1$)\t\t& 0.781\t& 0.343\t& 0.777\t\\\\\n",
      "GMM (Tied, 8 components, $\\alpha = 0.5$)\t\t& 0.845\t& 0.332\t& 0.800\t\\\\\n",
      "GMM (Tied, 8 components, $\\alpha = 1$)\t\t& 0.765\t& 0.299\t& 0.670\t\\\\\n",
      "GMM (Tied, 16 components, $\\alpha = 0.1$)\t\t& 0.842\t& 0.347\t& 0.770\t\\\\\n"
     ]
    }
   ],
   "source": [
    "from tiblib.classification import GaussianMixtureClassifier\n",
    "\n",
    "X_train, X_test, y_train, y_test = load_wine()\n",
    "\n",
    "model = GaussianMixtureClassifier\n",
    "hyperparams = {'tied':[False, True],\n",
    "               'diag':[False, True],\n",
    "               'n_components':[4,8,16],\n",
    "               'alpha':[0.1, 0.5, 1]}\n",
    "prefix = 'gmm'\n",
    "pis = [0.1, 0.5, 0.9]\n",
    "gaussianizer = Gaussianizer()\n",
    "scaler = StandardScaler()\n",
    "pca1 = PCA(n_dims=9)\n",
    "pca2 = PCA(n_dims=5)\n",
    "preprocessings = [\n",
    "    [],\n",
    "    [gaussianizer],\n",
    "    [scaler],\n",
    "]\n",
    "for pr in preprocessings:\n",
    "    if len(pr) > 0:\n",
    "        filename = '_'.join([str(p) for p in pr])\n",
    "    else:\n",
    "        filename = 'no_preproc'\n",
    "    print(filename) # Prints current preprocessings in string form\n",
    "    grid_cv_multiprior(X_train, y_train, pis=pis,\n",
    "            preprocessing=pr,\n",
    "            classifier=model, hyperparams=hyperparams, filename=f'results/results_{prefix}_{filename}.csv')"
   ],
   "metadata": {
    "collapsed": false,
    "pycharm": {
     "name": "#%%\n",
     "is_executing": true
    }
   }
  }
 ],
 "metadata": {
  "kernelspec": {
   "name": "pycharm-d2c9f13c",
   "language": "python",
   "display_name": "PyCharm (eurecom-malis)"
  },
  "language_info": {
   "codemirror_mode": {
    "name": "ipython",
    "version": 2
   },
   "file_extension": ".py",
   "mimetype": "text/x-python",
   "name": "python",
   "nbconvert_exporter": "python",
   "pygments_lexer": "ipython2",
   "version": "2.7.6"
  }
 },
 "nbformat": 4,
 "nbformat_minor": 0
}