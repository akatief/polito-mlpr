{
 "cells": [
  {
   "cell_type": "markdown",
   "metadata": {
    "collapsed": true,
    "pycharm": {
     "name": "#%% md\n"
    }
   },
   "source": [
    "# Classification on Wine Quality Dataset - Evaluation"
   ]
  },
  {
   "cell_type": "markdown",
   "source": [
    "## Imports"
   ],
   "metadata": {
    "collapsed": false
   }
  },
  {
   "cell_type": "code",
   "execution_count": 1,
   "outputs": [],
   "source": [
    "import numpy as np\n",
    "from tiblib import load_wine\n",
    "from tiblib.classification import QuadraticLogisticRegression, SVC, GaussianMixtureClassifier, Pipeline\n",
    "from tiblib.preprocessing import StandardScaler\n",
    "from tiblib import min_detection_cost_func, detection_cost_func\n",
    "from tiblib.model_selection import CVMinDCF\n",
    "from tiblib.model_selection.cv import calibrate\n"
   ],
   "metadata": {
    "collapsed": false,
    "pycharm": {
     "name": "#%%\n"
    }
   }
  },
  {
   "cell_type": "markdown",
   "source": [
    "## Uncalibrated models"
   ],
   "metadata": {
    "collapsed": false
   }
  },
  {
   "cell_type": "code",
   "execution_count": 7,
   "outputs": [
    {
     "name": "stdout",
     "output_type": "stream",
     "text": [
      "QLR\t & 0.255 \t & 0.287\n",
      "SVM\t & 0.241 \t & 0.283\n",
      "GMM\t & 0.324 \t & 0.329\n"
     ]
    }
   ],
   "source": [
    "X_train, X_test, y_train, y_test = load_wine()\n",
    "pi = 0.5\n",
    "ss = StandardScaler()\n",
    "qlr = QuadraticLogisticRegression(l=1e-3)\n",
    "svm = SVC(kernel='radial', C=1, gamma=1/np.e)\n",
    "gmm = GaussianMixtureClassifier(n_components=8)\n",
    "\n",
    "model1 = Pipeline(ss, qlr)\n",
    "model2 = Pipeline(ss, svm)\n",
    "model3 = Pipeline(ss, gmm)\n",
    "\n",
    "models = [model1, model2, model3]\n",
    "names = ['QLR', 'SVM', 'GMM']\n",
    "\n",
    "for m, n in zip(models, names):\n",
    "    m.fit(X_train, y_train)\n",
    "    scores = m.predict_scores(X_test, get_ratio=True)\n",
    "    min_dcf, _ = min_detection_cost_func(scores, y_test, pi=pi)\n",
    "    act_dcf = detection_cost_func(scores, y_test, pi=pi)\n",
    "\n",
    "    np.save(f'results/eval_{n}', scores)\n",
    "    print(f'{n}\\t & {min_dcf:.3} \\t & {act_dcf:.3}')"
   ],
   "metadata": {
    "collapsed": false,
    "pycharm": {
     "name": "#%%\n"
    }
   }
  },
  {
   "cell_type": "markdown",
   "source": [
    "## Calibrated models"
   ],
   "metadata": {
    "collapsed": false
   }
  },
  {
   "cell_type": "code",
   "execution_count": 6,
   "outputs": [
    {
     "name": "stdout",
     "output_type": "stream",
     "text": [
      "QLR\t & 0.255 \t & 0.264\n",
      "SVM\t & 0.241 \t & 0.258\n",
      "GMM\t & 0.324 \t & 0.964\n"
     ]
    }
   ],
   "source": [
    "X_train, X_test, y_train, y_test = load_wine()\n",
    "pi = 0.5\n",
    "ss = StandardScaler()\n",
    "qlr = QuadraticLogisticRegression(l=1e-3)\n",
    "svm = SVC(kernel='radial', C=1, gamma=1/np.e)\n",
    "gmm = GaussianMixtureClassifier(n_components=8)\n",
    "\n",
    "model1 = Pipeline(ss, qlr)\n",
    "model2 = Pipeline(ss, svm)\n",
    "model3 = Pipeline(ss, gmm)\n",
    "\n",
    "models = [model1, model2, model3]\n",
    "names = ['QLR', 'SVM', 'GMM']\n",
    "for m, n in zip(models, names):\n",
    "\n",
    "    _, _, scores_train = CVMinDCF(m, X_train, y_train, K=5, pi=.5, calibration=False, _lambda=1e-3)\n",
    "\n",
    "    m.fit(X_train, y_train)\n",
    "    scores_test = m.predict_scores(X_test, get_ratio=True)\n",
    "\n",
    "    scores_cal = calibrate(scores_train.reshape(-1,1), scores_test.reshape(-1,1), y_train, _lambda=1e-3)\n",
    "\n",
    "    min_dcf, _ = min_detection_cost_func(scores_cal, y_test, pi=pi)\n",
    "    act_dcf = detection_cost_func(scores_cal, y_test, pi=pi)\n",
    "\n",
    "    np.save(f'results/eval_cal_{n}', scores_cal)\n",
    "    print(f'{n}\\t & {min_dcf:.3} \\t & {act_dcf:.3}')"
   ],
   "metadata": {
    "collapsed": false,
    "pycharm": {
     "name": "#%%\n"
    }
   }
  },
  {
   "cell_type": "markdown",
   "source": [
    "## Fusion uncalibrated"
   ],
   "metadata": {
    "collapsed": false
   }
  },
  {
   "cell_type": "code",
   "execution_count": 5,
   "outputs": [
    {
     "name": "stdout",
     "output_type": "stream",
     "text": [
      "QLR + SVM + GMM\t & 0.232 \t & 0.237\n"
     ]
    }
   ],
   "source": [
    "from tiblib.classification import LogisticRegression\n",
    "\n",
    "X_train, X_test, y_train, y_test = load_wine()\n",
    "pi = 0.5\n",
    "ss = StandardScaler()\n",
    "qlr = QuadraticLogisticRegression(l=1e-3)\n",
    "svm = SVC(kernel='radial', C=1, gamma=1/np.e)\n",
    "gmm = GaussianMixtureClassifier(n_components=8)\n",
    "\n",
    "model1 = Pipeline(ss, qlr)\n",
    "model2 = Pipeline(ss, svm)\n",
    "model3 = Pipeline(ss, gmm)\n",
    "\n",
    "models = [model1, model2, model3]\n",
    "names = ['QLR', 'SVM', 'GMM']\n",
    "scores_train = []\n",
    "scores_test = []\n",
    "for m, n in zip(models, names):\n",
    "\n",
    "    _, _, sc_tr = CVMinDCF(m, X_train, y_train, K=5, pi=.5, calibration=False, _lambda=1e-3)\n",
    "\n",
    "    m.fit(X_train, y_train)\n",
    "    sc_ts = m.predict_scores(X_test, get_ratio=True)\n",
    "\n",
    "    scores_train.append(sc_tr.reshape(-1,1))\n",
    "    scores_test.append(sc_ts.reshape(-1,1))\n",
    "\n",
    "scores_train = np.concatenate(scores_train, axis=1)\n",
    "scores_test = np.concatenate(scores_test, axis=1)\n",
    "\n",
    "lr = LogisticRegression(l=1e-3)\n",
    "lr.fit(scores_train, y_train)\n",
    "\n",
    "fusion_scores = lr.predict_scores(scores_test, get_ratio=True)\n",
    "\n",
    "min_dcf, _ = min_detection_cost_func(fusion_scores, y_test, pi=pi)\n",
    "act_dcf = detection_cost_func(fusion_scores, y_test, pi=pi)\n",
    "\n",
    "np.save(f'results/eval_fusion_QLR_SVM_GMM', fusion_scores)\n",
    "print(f'QLR + SVM + GMM\\t & {min_dcf:.3} \\t & {act_dcf:.3}')"
   ],
   "metadata": {
    "collapsed": false,
    "pycharm": {
     "name": "#%%\n"
    }
   }
  },
  {
   "cell_type": "markdown",
   "source": [
    "## Fusion calibrated"
   ],
   "metadata": {
    "collapsed": false
   }
  },
  {
   "cell_type": "code",
   "execution_count": 7,
   "outputs": [
    {
     "name": "stdout",
     "output_type": "stream",
     "text": [
      "QLR + SVM + GMM\t & 0.239 \t & 0.255\n"
     ]
    }
   ],
   "source": [
    "from tiblib.classification import LogisticRegression\n",
    "\n",
    "X_train, X_test, y_train, y_test = load_wine()\n",
    "pi = 0.5\n",
    "ss = StandardScaler()\n",
    "qlr = QuadraticLogisticRegression(l=1e-3)\n",
    "svm = SVC(kernel='radial', C=1, gamma=1/np.e)\n",
    "gmm = GaussianMixtureClassifier(n_components=8)\n",
    "\n",
    "model1 = Pipeline(ss, qlr)\n",
    "model2 = Pipeline(ss, svm)\n",
    "model3 = Pipeline(ss, gmm)\n",
    "\n",
    "models = [model1, model2, model3]\n",
    "names = ['QLR', 'SVM', 'GMM']\n",
    "scores_train = []\n",
    "scores_test = []\n",
    "for m, n in zip(models, names):\n",
    "\n",
    "    _, _, sc_tr = CVMinDCF(m, X_train, y_train, K=5, pi=.5, calibration=False, _lambda=1e-3)\n",
    "\n",
    "    m.fit(X_train, y_train)\n",
    "    sc_ts = m.predict_scores(X_test, get_ratio=True)\n",
    "\n",
    "    sc_ts = calibrate(sc_tr.reshape(-1,1), sc_ts.reshape(-1,1), y_train, _lambda=1e-3)\n",
    "\n",
    "    scores_train.append(sc_tr.reshape(-1,1))\n",
    "    scores_test.append(sc_ts.reshape(-1,1))\n",
    "\n",
    "scores_train = np.concatenate(scores_train, axis=1)\n",
    "scores_test = np.concatenate(scores_test, axis=1)\n",
    "\n",
    "lr = LogisticRegression(l=1e-3)\n",
    "lr.fit(scores_train, y_train)\n",
    "\n",
    "fusion_scores = lr.predict_scores(scores_test, get_ratio=True)\n",
    "\n",
    "min_dcf, _ = min_detection_cost_func(fusion_scores, y_test, pi=pi)\n",
    "act_dcf = detection_cost_func(fusion_scores, y_test, pi=pi)\n",
    "\n",
    "np.save(f'results/eval_fusion_cal_QLR_SVM_GMM', fusion_scores)\n",
    "print(f'QLR + SVM + GMM\\t & {min_dcf:.3} \\t & {act_dcf:.3}')"
   ],
   "metadata": {
    "collapsed": false,
    "pycharm": {
     "name": "#%%\n"
    }
   }
  }
 ],
 "metadata": {
  "kernelspec": {
   "name": "pycharm-d2c9f13c",
   "language": "python",
   "display_name": "PyCharm (eurecom-malis)"
  },
  "language_info": {
   "codemirror_mode": {
    "name": "ipython",
    "version": 2
   },
   "file_extension": ".py",
   "mimetype": "text/x-python",
   "name": "python",
   "nbconvert_exporter": "python",
   "pygments_lexer": "ipython2",
   "version": "2.7.6"
  }
 },
 "nbformat": 4,
 "nbformat_minor": 0
}