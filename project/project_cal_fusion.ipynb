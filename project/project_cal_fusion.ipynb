{
 "cells": [
  {
   "cell_type": "markdown",
   "source": [
    "# Classification on Wine Quality Dataset - Model selection"
   ],
   "metadata": {
    "collapsed": false
   }
  },
  {
   "cell_type": "markdown",
   "source": [
    "## Imports"
   ],
   "metadata": {
    "collapsed": false
   }
  },
  {
   "cell_type": "code",
   "execution_count": 1,
   "outputs": [],
   "source": [
    "import numpy as np\n",
    "from tiblib import load_wine\n",
    "from tiblib.model_selection import Calibrate\n",
    "from tiblib.classification import QuadraticLogisticRegression, GaussianClassifier\n",
    "from tiblib.classification import GaussianMixtureClassifier, SVC, Pipeline\n",
    "from tiblib.preprocessing import Gaussianizer, StandardScaler, PCA"
   ],
   "metadata": {
    "collapsed": false,
    "pycharm": {
     "name": "#%%\n"
    }
   }
  },
  {
   "cell_type": "markdown",
   "source": [
    "## Calibration"
   ],
   "metadata": {
    "collapsed": false
   }
  },
  {
   "cell_type": "code",
   "execution_count": 7,
   "outputs": [
    {
     "name": "stdout",
     "output_type": "stream",
     "text": [
      "gc1 & 0.311 & 0.330 & 0.325\n",
      "gc2 & 0.327 & 0.354 & 0.337\n",
      "qrl1 & 0.277 & 0.292 & 0.297\n",
      "qrl2 & 0.301 & 0.307 & 0.304\n",
      "svm1 & 0.243 & 0.249 & 0.246\n",
      "svm2 & 0.231 & 0.233 & 0.238\n",
      "gmm1 & 0.319 & 0.323 & 0.321\n",
      "gmm2 & 0.334 & 0.358 & 0.338\n"
     ]
    }
   ],
   "source": [
    "X_train, _, y_train, _ = load_wine()\n",
    "\n",
    "g = Gaussianizer()\n",
    "ss = StandardScaler()\n",
    "pca = PCA(n_dims=9)\n",
    "gc = GaussianClassifier()\n",
    "qrl = QuadraticLogisticRegression(l=1e-3)\n",
    "svm1 = SVC(kernel='radial', gamma=1/np.e**2, C=10)\n",
    "svm2 = SVC(kernel='radial', gamma=1/np.e, C=1)\n",
    "gmm1 = GaussianMixtureClassifier(n_components=8)\n",
    "gmm2 = GaussianMixtureClassifier(n_components=16, tied=True)\n",
    "\n",
    "model1 = Pipeline(g, gc)\n",
    "model2 = Pipeline([ss, pca], gc)\n",
    "model3 = Pipeline([ss], qrl)\n",
    "model4 = Pipeline([ss, pca], qrl)\n",
    "model5 = Pipeline(ss, svm1)\n",
    "model6 = Pipeline(ss, svm2)\n",
    "model7 = Pipeline(ss, gmm1)\n",
    "model8 = Pipeline(g, gmm2)\n",
    "\n",
    "models = [model1, model2, model3, model4, model5, model6, model7, model8]\n",
    "names = ['gc1', 'gc2', 'qlr1', 'qlr2', 'svm1', 'svm2', 'gmm1', 'gmm2']\n",
    "\n",
    "for n, m in zip(names, models):\n",
    "    min_dcf, act_dcf, cal_dcf, scores, cal_scores = Calibrate(m, X_train, y_train)\n",
    "    print(f'{n} & {min_dcf:.3f} & {act_dcf:.3f} & {cal_dcf:.3f}')\n",
    "    np.save(f'results/scores_{n}', scores)\n",
    "    np.save(f'results/cal_scores_{n}', cal_scores)"
   ],
   "metadata": {
    "collapsed": false,
    "pycharm": {
     "name": "#%%\n"
    }
   }
  },
  {
   "cell_type": "markdown",
   "source": [
    "## Fusion"
   ],
   "metadata": {
    "collapsed": false
   }
  },
  {
   "cell_type": "code",
   "execution_count": 28,
   "outputs": [
    {
     "name": "stdout",
     "output_type": "stream",
     "text": [
      "QLR + SVM + GMM & 0.226 & 0.228 \\\\\n"
     ]
    }
   ],
   "source": [
    "from tiblib.model_selection import Fusion\n",
    "\n",
    "X_train, _, y_train, _ = load_wine()\n",
    "\n",
    "model_names = ['svm2', 'qlr1', 'gmm1']\n",
    "scores = []\n",
    "for n in model_names:\n",
    "    scores.append(np.load(f'results/cal_scores_{n}.npy').reshape(-1,1))\n",
    "scores = np.concatenate(scores, axis=1)\n",
    "\n",
    "min_dcf, act_dcf, fused_score = Fusion(scores,y_train)\n",
    "print(f'QLR + SVM + GMM & {min_dcf:.3} & {act_dcf:.3} \\\\\\\\')\n",
    "np.save(f'results/fusion_scores_{\"_\".join(model_names)}', fused_score)"
   ],
   "metadata": {
    "collapsed": false,
    "pycharm": {
     "name": "#%%\n"
    }
   }
  },
  {
   "cell_type": "code",
   "execution_count": 29,
   "outputs": [
    {
     "name": "stdout",
     "output_type": "stream",
     "text": [
      "QLR + SVM & 0.228 & 0.236 \\\\\n"
     ]
    }
   ],
   "source": [
    "from tiblib.model_selection import Fusion\n",
    "\n",
    "X_train, _, y_train, _ = load_wine()\n",
    "\n",
    "model_names = ['svm2', 'qlr1']\n",
    "scores = []\n",
    "for n in model_names:\n",
    "    scores.append(np.load(f'results/cal_scores_{n}.npy').reshape(-1,1))\n",
    "scores = np.concatenate(scores, axis=1)\n",
    "\n",
    "min_dcf, act_dcf, fused_score = Fusion(scores,y_train)\n",
    "print(f'QLR + SVM & {min_dcf:.3} & {act_dcf:.3} \\\\\\\\')\n",
    "np.save(f'results/fusion_scores_{\"_\".join(model_names)}', fused_score)"
   ],
   "metadata": {
    "collapsed": false,
    "pycharm": {
     "name": "#%%\n"
    }
   }
  },
  {
   "cell_type": "code",
   "execution_count": 30,
   "outputs": [
    {
     "name": "stdout",
     "output_type": "stream",
     "text": [
      "SVM + GMM & 0.228 & 0.237 \\\\\n"
     ]
    }
   ],
   "source": [
    "from tiblib.model_selection import Fusion\n",
    "\n",
    "X_train, _, y_train, _ = load_wine()\n",
    "\n",
    "model_names = ['svm2', 'gmm1']\n",
    "scores = []\n",
    "for n in model_names:\n",
    "    scores.append(np.load(f'results/cal_scores_{n}.npy').reshape(-1,1))\n",
    "scores = np.concatenate(scores, axis=1)\n",
    "\n",
    "min_dcf, act_dcf, fused_score = Fusion(scores,y_train)\n",
    "print(f'SVM + GMM & {min_dcf:.3} & {act_dcf:.3} \\\\\\\\')\n",
    "np.save(f'results/fusion_scores_{\"_\".join(model_names)}', fused_score)"
   ],
   "metadata": {
    "collapsed": false,
    "pycharm": {
     "name": "#%%\n"
    }
   }
  },
  {
   "cell_type": "code",
   "execution_count": 38,
   "outputs": [
    {
     "name": "stdout",
     "output_type": "stream",
     "text": [
      "QLR + GMM & 0.283 & 0.293 \\\\\n"
     ]
    }
   ],
   "source": [
    "from tiblib.model_selection import Fusion\n",
    "\n",
    "X_train, _, y_train, _ = load_wine()\n",
    "\n",
    "model_names = ['qlr1', 'gmm1']\n",
    "scores = []\n",
    "for n in model_names:\n",
    "    scores.append(np.load(f'results/cal_scores_{n}.npy').reshape(-1,1))\n",
    "scores = np.concatenate(scores, axis=1)\n",
    "\n",
    "min_dcf, act_dcf, fused_score = Fusion(scores,y_train)\n",
    "print(f'QLR + GMM & {min_dcf:.3} & {act_dcf:.3} \\\\\\\\')\n",
    "np.save(f'results/fusion_scores_{\"_\".join(model_names)}', fused_score)"
   ],
   "metadata": {
    "collapsed": false,
    "pycharm": {
     "name": "#%%\n"
    }
   }
  }
 ],
 "metadata": {
  "kernelspec": {
   "name": "pycharm-d2c9f13c",
   "language": "python",
   "display_name": "PyCharm (eurecom-malis)"
  },
  "language_info": {
   "codemirror_mode": {
    "name": "ipython",
    "version": 2
   },
   "file_extension": ".py",
   "mimetype": "text/x-python",
   "name": "python",
   "nbconvert_exporter": "python",
   "pygments_lexer": "ipython2",
   "version": "2.7.6"
  }
 },
 "nbformat": 4,
 "nbformat_minor": 0
}