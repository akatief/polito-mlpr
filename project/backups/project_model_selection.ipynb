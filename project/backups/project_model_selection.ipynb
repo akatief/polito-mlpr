{
 "cells": [
  {
   "cell_type": "markdown",
   "source": [
    "# Classification on Wine Quality Dataset"
   ],
   "metadata": {
    "collapsed": false
   }
  },
  {
   "cell_type": "markdown",
   "source": [
    "## Imports"
   ],
   "metadata": {
    "collapsed": false
   }
  },
  {
   "cell_type": "code",
   "execution_count": 1,
   "outputs": [],
   "source": [
    "import numpy as np\n",
    "from tiblib import load_wine\n",
    "from tiblib.model_selection import grid_cv_multiprior\n",
    "from tiblib.preprocessing import Gaussianizer, StandardScaler, PCA\n",
    "from tiblib.classification import GaussianClassifier"
   ],
   "metadata": {
    "collapsed": false,
    "pycharm": {
     "name": "#%%\n"
    }
   }
  },
  {
   "cell_type": "markdown",
   "source": [
    "## Gaussian Classifier"
   ],
   "metadata": {
    "collapsed": false,
    "pycharm": {
     "name": "#%% md\n"
    }
   }
  },
  {
   "cell_type": "code",
   "execution_count": 2,
   "outputs": [
    {
     "name": "stdout",
     "output_type": "stream",
     "text": [
      "no_preproc\n",
      "Showing results for pi = [0.1, 0.5, 0.9]\n",
      "Full\t\t& 0.797\t& 0.313\t& 0.839\t\\\\\n",
      "Naive\t\t& 0.856\t& 0.418\t& 0.881\t\\\\\n",
      "Tied\t\t& 0.818\t& 0.338\t& 0.741\t\\\\\n",
      "Naive, Tied\t\t& 0.860\t& 0.405\t& 0.944\t\\\\\n",
      "Gaussianizer\n",
      "Showing results for pi = [0.1, 0.5, 0.9]\n",
      "Full\t\t& 0.772\t& 0.299\t& 0.772\t\\\\\n",
      "Naive\t\t& 0.863\t& 0.445\t& 0.863\t\\\\\n",
      "Tied\t\t& 0.786\t& 0.351\t& 0.849\t\\\\\n",
      "Naive, Tied\t\t& 0.866\t& 0.443\t& 0.945\t\\\\\n",
      "StandardScaler\n",
      "Showing results for pi = [0.1, 0.5, 0.9]\n",
      "Full\t\t& 0.784\t& 0.310\t& 0.855\t\\\\\n",
      "Naive\t\t& 0.867\t& 0.419\t& 0.926\t\\\\\n",
      "Tied\t\t& 0.841\t& 0.335\t& 0.759\t\\\\\n",
      "Naive, Tied\t\t& 0.868\t& 0.409\t& 0.947\t\\\\\n",
      "StandardScaler_PCA (d=9)\n",
      "Showing results for pi = [0.1, 0.5, 0.9]\n",
      "Full\t\t& 0.829\t& 0.317\t& 0.810\t\\\\\n",
      "Naive\t\t& 0.815\t& 0.393\t& 0.866\t\\\\\n",
      "Tied\t\t& 0.835\t& 0.342\t& 0.746\t\\\\\n",
      "Naive, Tied\t\t& 0.823\t& 0.339\t& 0.782\t\\\\\n",
      "StandardScaler_PCA (d=5)\n",
      "Showing results for pi = [0.1, 0.5, 0.9]\n",
      "Full\t\t& 0.865\t& 0.401\t& 0.893\t\\\\\n",
      "Naive\t\t& 0.862\t& 0.434\t& 0.898\t\\\\\n",
      "Tied\t\t& 0.854\t& 0.388\t& 0.914\t\\\\\n",
      "Naive, Tied\t\t& 0.854\t& 0.387\t& 0.923\t\\\\\n",
      "Gaussianizer_StandardScaler_PCA (d=9)\n",
      "Showing results for pi = [0.1, 0.5, 0.9]\n",
      "Full\t\t& 0.818\t& 0.306\t& 0.732\t\\\\\n",
      "Naive\t\t& 0.832\t& 0.416\t& 0.799\t\\\\\n",
      "Tied\t\t& 0.816\t& 0.359\t& 0.802\t\\\\\n",
      "Naive, Tied\t\t& 0.813\t& 0.356\t& 0.816\t\\\\\n",
      "Gaussianizer_StandardScaler_PCA (d=5)\n",
      "Showing results for pi = [0.1, 0.5, 0.9]\n",
      "Full\t\t& 0.838\t& 0.392\t& 0.877\t\\\\\n",
      "Naive\t\t& 0.874\t& 0.431\t& 0.924\t\\\\\n",
      "Tied\t\t& 0.829\t& 0.391\t& 0.980\t\\\\\n",
      "Naive, Tied\t\t& 0.822\t& 0.392\t& 0.987\t\\\\\n"
     ]
    }
   ],
   "source": [
    "X_train, X_test, y_train, y_test = load_wine()\n",
    "\n",
    "model = GaussianClassifier\n",
    "hyperparams = {'tied':[False, True],\n",
    "               'naive':[False, True]}\n",
    "\n",
    "gaussianizer = Gaussianizer()\n",
    "scaler = StandardScaler()\n",
    "pca1 = PCA(n_dims=9)\n",
    "pca2 = PCA(n_dims=5)\n",
    "preprocessings = [\n",
    "    [],\n",
    "    [gaussianizer],\n",
    "    [scaler],\n",
    "    [scaler, pca1],\n",
    "    [scaler, pca2],\n",
    "    [gaussianizer, scaler, pca1],\n",
    "    [gaussianizer, scaler, pca2],\n",
    "]\n",
    "prefix = 'gc'\n",
    "pis = [0.1, 0.5, 0.9]\n",
    "for pr in preprocessings:\n",
    "    if len(pr) > 0:\n",
    "        filename = '_'.join([str(p) for p in pr])\n",
    "    else:\n",
    "        filename = 'no_preproc'\n",
    "    print(filename) # Prints current preprocessings in string form\n",
    "    grid_cv_multiprior(X_train, y_train, pis=pis,\n",
    "            preprocessing=pr,\n",
    "            classifier=model, hyperparams=hyperparams, filename=f'results/results_{prefix}_{filename}.csv')"
   ],
   "metadata": {
    "collapsed": false,
    "pycharm": {
     "name": "#%%\n"
    }
   }
  },
  {
   "cell_type": "markdown",
   "source": [
    "## Logistic Regression"
   ],
   "metadata": {
    "collapsed": false
   }
  },
  {
   "cell_type": "code",
   "execution_count": 3,
   "outputs": [
    {
     "name": "stdout",
     "output_type": "stream",
     "text": [
      "no_preproc\n",
      "Showing results for pi = [0.1, 0.5, 0.9]\n",
      "LogReg ($\\lambda = 0.1$)\t\t& 0.874\t& 0.423\t& 0.974\t\\\\\n",
      "LogReg ($\\lambda = 0.01$)\t\t& 0.844\t& 0.400\t& 0.816\t\\\\\n",
      "LogReg ($\\lambda = 0.001$)\t\t& 0.826\t& 0.354\t& 0.684\t\\\\\n",
      "LogReg ($\\lambda = 0.0001$)\t\t& 0.856\t& 0.360\t& 0.643\t\\\\\n",
      "StandardScaler\n",
      "Showing results for pi = [0.1, 0.5, 0.9]\n",
      "LogReg ($\\lambda = 0.1$)\t\t& 0.851\t& 0.355\t& 0.808\t\\\\\n",
      "LogReg ($\\lambda = 0.01$)\t\t& 0.845\t& 0.351\t& 0.666\t\\\\\n",
      "LogReg ($\\lambda = 0.001$)\t\t& 0.847\t& 0.358\t& 0.693\t\\\\\n",
      "LogReg ($\\lambda = 0.0001$)\t\t& 0.852\t& 0.356\t& 0.666\t\\\\\n",
      "StandardScaler_PCA (d=9)\n",
      "Showing results for pi = [0.1, 0.5, 0.9]\n",
      "LogReg ($\\lambda = 0.1$)\t\t& 0.842\t& 0.356\t& 0.779\t\\\\\n",
      "LogReg ($\\lambda = 0.01$)\t\t& 0.845\t& 0.347\t& 0.660\t\\\\\n",
      "LogReg ($\\lambda = 0.001$)\t\t& 0.854\t& 0.361\t& 0.670\t\\\\\n",
      "LogReg ($\\lambda = 0.0001$)\t\t& 0.840\t& 0.352\t& 0.661\t\\\\\n",
      "StandardScaler_PCA (d=5)\n",
      "Showing results for pi = [0.1, 0.5, 0.9]\n",
      "LogReg ($\\lambda = 0.1$)\t\t& 0.844\t& 0.387\t& 0.881\t\\\\\n",
      "LogReg ($\\lambda = 0.01$)\t\t& 0.856\t& 0.383\t& 0.847\t\\\\\n",
      "LogReg ($\\lambda = 0.001$)\t\t& 0.847\t& 0.381\t& 0.843\t\\\\\n",
      "LogReg ($\\lambda = 0.0001$)\t\t& 0.844\t& 0.388\t& 0.848\t\\\\\n"
     ]
    }
   ],
   "source": [
    "from tiblib.classification import LogisticRegression\n",
    "\n",
    "X_train, X_test, y_train, y_test = load_wine()\n",
    "\n",
    "model = LogisticRegression\n",
    "hyperparams = {'l':[1e-1, 1e-2, 1e-3, 1e-4]}\n",
    "\n",
    "gaussianizer = Gaussianizer()\n",
    "scaler = StandardScaler()\n",
    "pca1 = PCA(n_dims=9)\n",
    "pca2 = PCA(n_dims=5)\n",
    "preprocessings = [\n",
    "    [],\n",
    "    [scaler],\n",
    "    [scaler, pca1],\n",
    "    [scaler, pca2]\n",
    "]\n",
    "prefix = 'lr'\n",
    "pis = [0.1, 0.5, 0.9]\n",
    "for pr in preprocessings:\n",
    "    if len(pr) > 0:\n",
    "        filename = '_'.join([str(p) for p in pr])\n",
    "    else:\n",
    "        filename = 'no_preproc'\n",
    "    print(filename) # Prints current preprocessings in string form\n",
    "    grid_cv_multiprior(X_train, y_train, pis=pis,\n",
    "            preprocessing=pr,\n",
    "            classifier=model, hyperparams=hyperparams, filename=f'results/results_{prefix}_{filename}.csv')"
   ],
   "metadata": {
    "collapsed": false,
    "pycharm": {
     "name": "#%%\n"
    }
   }
  },
  {
   "cell_type": "markdown",
   "source": [
    "## Quadratic Logistic Regression"
   ],
   "metadata": {
    "collapsed": false
   }
  },
  {
   "cell_type": "code",
   "execution_count": 3,
   "outputs": [
    {
     "name": "stdout",
     "output_type": "stream",
     "text": [
      "no_preproc\n",
      "Showing results for pi = [0.1, 0.5, 0.9]\n",
      "QuadLogReg ($\\lambda = 0.1$)\t\t& 0.858\t& 0.394\t& 0.848\t\\\\\n",
      "QuadLogReg ($\\lambda = 0.01$)\t\t& 0.838\t& 0.387\t& 0.811\t\\\\\n",
      "QuadLogReg ($\\lambda = 0.001$)\t\t& 0.830\t& 0.390\t& 0.840\t\\\\\n",
      "QuadLogReg ($\\lambda = 0.0001$)\t\t& 0.865\t& 0.375\t& 0.842\t\\\\\n",
      "StandardScaler\n",
      "Showing results for pi = [0.1, 0.5, 0.9]\n",
      "QuadLogReg ($\\lambda = 0.1$)\t\t& 0.811\t& 0.316\t& 0.795\t\\\\\n",
      "QuadLogReg ($\\lambda = 0.01$)\t\t& 0.807\t& 0.292\t& 0.670\t\\\\\n",
      "QuadLogReg ($\\lambda = 0.001$)\t\t& 0.814\t& 0.268\t& 0.635\t\\\\\n",
      "QuadLogReg ($\\lambda = 0.0001$)\t\t& 0.739\t& 0.287\t& 0.645\t\\\\\n",
      "StandardScaler_PCA (d=9)\n",
      "Showing results for pi = [0.1, 0.5, 0.9]\n",
      "QuadLogReg ($\\lambda = 0.1$)\t\t& 0.843\t& 0.318\t& 0.796\t\\\\\n",
      "QuadLogReg ($\\lambda = 0.01$)\t\t& 0.792\t& 0.299\t& 0.706\t\\\\\n",
      "QuadLogReg ($\\lambda = 0.001$)\t\t& 0.804\t& 0.284\t& 0.669\t\\\\\n",
      "QuadLogReg ($\\lambda = 0.0001$)\t\t& 0.819\t& 0.297\t& 0.758\t\\\\\n",
      "StandardScaler_PCA (d=5)\n",
      "Showing results for pi = [0.1, 0.5, 0.9]\n",
      "QuadLogReg ($\\lambda = 0.1$)\t\t& 0.838\t& 0.356\t& 0.896\t\\\\\n",
      "QuadLogReg ($\\lambda = 0.01$)\t\t& 0.818\t& 0.334\t& 0.825\t\\\\\n",
      "QuadLogReg ($\\lambda = 0.001$)\t\t& 0.838\t& 0.339\t& 0.821\t\\\\\n",
      "QuadLogReg ($\\lambda = 0.0001$)\t\t& 0.861\t& 0.341\t& 0.821\t\\\\\n"
     ]
    }
   ],
   "source": [
    "from tiblib.classification import QuadraticLogisticRegression\n",
    "\n",
    "X_train, X_test, y_train, y_test = load_wine()\n",
    "\n",
    "model = QuadraticLogisticRegression\n",
    "hyperparams = {'l':[1e-1, 1e-2, 1e-3, 1e-4]}\n",
    "\n",
    "gaussianizer = Gaussianizer()\n",
    "scaler = StandardScaler()\n",
    "pca1 = PCA(n_dims=9)\n",
    "pca2 = PCA(n_dims=5)\n",
    "preprocessings = [\n",
    "    [],\n",
    "    [scaler],\n",
    "    [scaler, pca1],\n",
    "    [scaler, pca2]\n",
    "]\n",
    "prefix = 'lr'\n",
    "pis = [0.1, 0.5, 0.9]\n",
    "for pr in preprocessings:\n",
    "    if len(pr) > 0:\n",
    "        filename = '_'.join([str(p) for p in pr])\n",
    "    else:\n",
    "        filename = 'no_preproc'\n",
    "    print(filename) # Prints current preprocessings in string form\n",
    "    grid_cv_multiprior(X_train, y_train, pis=pis,\n",
    "            preprocessing=pr,\n",
    "            classifier=model, hyperparams=hyperparams, filename=f'results/results_{prefix}_{filename}.csv')"
   ],
   "metadata": {
    "collapsed": false,
    "pycharm": {
     "name": "#%%\n"
    }
   }
  },
  {
   "cell_type": "markdown",
   "source": [
    "## GMM"
   ],
   "metadata": {
    "collapsed": false
   }
  },
  {
   "cell_type": "code",
   "execution_count": 4,
   "outputs": [
    {
     "name": "stdout",
     "output_type": "stream",
     "text": [
      "no_preproc\n",
      "Showing results for pi = [0.1, 0.5, 0.9]\n",
      "GMM (4 components, $\\alpha = 0.1$)\t\t& 0.812\t& 0.326\t& 0.748\t\\\\\n",
      "GMM (4 components, $\\alpha = 0.5$)\t\t& 0.847\t& 0.327\t& 0.695\t\\\\\n",
      "GMM (4 components, $\\alpha = 1$)\t\t& 0.772\t& 0.321\t& 0.740\t\\\\\n",
      "GMM (8 components, $\\alpha = 0.1$)\t\t& 0.842\t& 0.330\t& 0.786\t\\\\\n",
      "GMM (8 components, $\\alpha = 0.5$)\t\t& 0.784\t& 0.325\t& 0.802\t\\\\\n",
      "GMM (8 components, $\\alpha = 1$)\t\t& 0.725\t& 0.300\t& 0.775\t\\\\\n",
      "GMM (16 components, $\\alpha = 0.1$)\t\t& 0.850\t& 0.350\t& 0.893\t\\\\\n",
      "GMM (16 components, $\\alpha = 0.5$)\t\t& 0.830\t& 0.346\t& 0.950\t\\\\\n",
      "GMM (16 components, $\\alpha = 1$)\t\t& 0.679\t& 0.303\t& 0.852\t\\\\\n",
      "GMM (Diag, 4 components, $\\alpha = 0.1$)\t\t& 0.801\t& 0.400\t& 0.847\t\\\\\n",
      "GMM (Diag, 4 components, $\\alpha = 0.5$)\t\t& 0.865\t& 0.376\t& 0.828\t\\\\\n",
      "GMM (Diag, 4 components, $\\alpha = 1$)\t\t& 0.837\t& 0.316\t& 0.781\t\\\\\n",
      "GMM (Diag, 8 components, $\\alpha = 0.1$)\t\t& 0.894\t& 0.388\t& 0.852\t\\\\\n",
      "GMM (Diag, 8 components, $\\alpha = 0.5$)\t\t& 0.851\t& 0.375\t& 0.839\t\\\\\n",
      "GMM (Diag, 8 components, $\\alpha = 1$)\t\t& 0.787\t& 0.336\t& 0.746\t\\\\\n",
      "GMM (Diag, 16 components, $\\alpha = 0.1$)\t\t& 0.894\t& 0.405\t& 0.827\t\\\\\n",
      "GMM (Diag, 16 components, $\\alpha = 0.5$)\t\t& 0.825\t& 0.369\t& 0.843\t\\\\\n",
      "GMM (Diag, 16 components, $\\alpha = 1$)\t\t& 0.751\t& 0.311\t& 0.796\t\\\\\n",
      "GMM (Tied, 4 components, $\\alpha = 0.1$)\t\t& 0.815\t& 0.350\t& 0.823\t\\\\\n",
      "GMM (Tied, 4 components, $\\alpha = 0.5$)\t\t& 0.820\t& 0.350\t& 0.718\t\\\\\n",
      "GMM (Tied, 4 components, $\\alpha = 1$)\t\t& 0.815\t& 0.334\t& 0.723\t\\\\\n",
      "GMM (Tied, 8 components, $\\alpha = 0.1$)\t\t& 0.781\t& 0.343\t& 0.777\t\\\\\n",
      "GMM (Tied, 8 components, $\\alpha = 0.5$)\t\t& 0.845\t& 0.332\t& 0.800\t\\\\\n",
      "GMM (Tied, 8 components, $\\alpha = 1$)\t\t& 0.765\t& 0.299\t& 0.670\t\\\\\n",
      "GMM (Tied, 16 components, $\\alpha = 0.1$)\t\t& 0.842\t& 0.347\t& 0.770\t\\\\\n",
      "GMM (Tied, 16 components, $\\alpha = 0.5$)\t\t& 0.809\t& 0.324\t& 0.755\t\\\\\n",
      "GMM (Tied, 16 components, $\\alpha = 1$)\t\t& 0.766\t& 0.312\t& 0.723\t\\\\\n",
      "GMM (Diag, Tied, 4 components, $\\alpha = 0.1$)\t\t& 0.971\t& 0.386\t& 0.805\t\\\\\n",
      "GMM (Diag, Tied, 4 components, $\\alpha = 0.5$)\t\t& 0.896\t& 0.382\t& 0.839\t\\\\\n",
      "GMM (Diag, Tied, 4 components, $\\alpha = 1$)\t\t& 0.869\t& 0.352\t& 0.847\t\\\\\n",
      "GMM (Diag, Tied, 8 components, $\\alpha = 0.1$)\t\t& 0.842\t& 0.363\t& 0.816\t\\\\\n",
      "GMM (Diag, Tied, 8 components, $\\alpha = 0.5$)\t\t& 0.876\t& 0.353\t& 0.770\t\\\\\n",
      "GMM (Diag, Tied, 8 components, $\\alpha = 1$)\t\t& 0.814\t& 0.354\t& 0.750\t\\\\\n",
      "GMM (Diag, Tied, 16 components, $\\alpha = 0.1$)\t\t& 0.799\t& 0.324\t& 0.817\t\\\\\n",
      "GMM (Diag, Tied, 16 components, $\\alpha = 0.5$)\t\t& 0.782\t& 0.342\t& 0.758\t\\\\\n",
      "GMM (Diag, Tied, 16 components, $\\alpha = 1$)\t\t& 0.779\t& 0.330\t& 0.732\t\\\\\n",
      "Gaussianizer\n",
      "Showing results for pi = [0.1, 0.5, 0.9]\n",
      "GMM (4 components, $\\alpha = 0.1$)\t\t& 0.787\t& 0.315\t& 0.697\t\\\\\n",
      "GMM (4 components, $\\alpha = 0.5$)\t\t& 0.737\t& 0.299\t& 0.793\t\\\\\n",
      "GMM (4 components, $\\alpha = 1$)\t\t& 0.732\t& 0.301\t& 0.723\t\\\\\n",
      "GMM (8 components, $\\alpha = 0.1$)\t\t& 0.763\t& 0.331\t& 0.834\t\\\\\n",
      "GMM (8 components, $\\alpha = 0.5$)\t\t& 0.743\t& 0.324\t& 0.763\t\\\\\n",
      "GMM (8 components, $\\alpha = 1$)\t\t& 0.737\t& 0.303\t& 0.810\t\\\\\n",
      "GMM (16 components, $\\alpha = 0.1$)\t\t& 0.759\t& 0.350\t& 0.924\t\\\\\n",
      "GMM (16 components, $\\alpha = 0.5$)\t\t& 0.687\t& 0.342\t& 0.969\t\\\\\n",
      "GMM (16 components, $\\alpha = 1$)\t\t& 0.761\t& 0.312\t& 0.811\t\\\\\n",
      "GMM (Diag, 4 components, $\\alpha = 0.1$)\t\t& 0.856\t& 0.402\t& 0.847\t\\\\\n",
      "GMM (Diag, 4 components, $\\alpha = 0.5$)\t\t& 0.843\t& 0.384\t& 0.902\t\\\\\n",
      "GMM (Diag, 4 components, $\\alpha = 1$)\t\t& 0.785\t& 0.309\t& 0.758\t\\\\\n",
      "GMM (Diag, 8 components, $\\alpha = 0.1$)\t\t& 0.819\t& 0.382\t& 0.876\t\\\\\n",
      "GMM (Diag, 8 components, $\\alpha = 0.5$)\t\t& 0.811\t& 0.371\t& 0.725\t\\\\\n",
      "GMM (Diag, 8 components, $\\alpha = 1$)\t\t& 0.737\t& 0.323\t& 0.641\t\\\\\n",
      "GMM (Diag, 16 components, $\\alpha = 0.1$)\t\t& 0.821\t& 0.387\t& 0.896\t\\\\\n",
      "GMM (Diag, 16 components, $\\alpha = 0.5$)\t\t& 0.763\t& 0.352\t& 0.805\t\\\\\n",
      "GMM (Diag, 16 components, $\\alpha = 1$)\t\t& 0.705\t& 0.347\t& 0.758\t\\\\\n",
      "GMM (Tied, 4 components, $\\alpha = 0.1$)\t\t& 0.756\t& 0.350\t& 0.741\t\\\\\n",
      "GMM (Tied, 4 components, $\\alpha = 0.5$)\t\t& 0.747\t& 0.330\t& 0.759\t\\\\\n",
      "GMM (Tied, 4 components, $\\alpha = 1$)\t\t& 0.754\t& 0.311\t& 0.733\t\\\\\n",
      "GMM (Tied, 8 components, $\\alpha = 0.1$)\t\t& 0.726\t& 0.342\t& 0.687\t\\\\\n",
      "GMM (Tied, 8 components, $\\alpha = 0.5$)\t\t& 0.728\t& 0.321\t& 0.742\t\\\\\n",
      "GMM (Tied, 8 components, $\\alpha = 1$)\t\t& 0.722\t& 0.301\t& 0.741\t\\\\\n",
      "GMM (Tied, 16 components, $\\alpha = 0.1$)\t\t& 0.794\t& 0.345\t& 0.722\t\\\\\n",
      "GMM (Tied, 16 components, $\\alpha = 0.5$)\t\t& 0.724\t& 0.321\t& 0.697\t\\\\\n",
      "GMM (Tied, 16 components, $\\alpha = 1$)\t\t& 0.730\t& 0.296\t& 0.723\t\\\\\n",
      "GMM (Diag, Tied, 4 components, $\\alpha = 0.1$)\t\t& 0.805\t& 0.361\t& 0.808\t\\\\\n",
      "GMM (Diag, Tied, 4 components, $\\alpha = 0.5$)\t\t& 0.755\t& 0.345\t& 0.808\t\\\\\n",
      "GMM (Diag, Tied, 4 components, $\\alpha = 1$)\t\t& 0.775\t& 0.320\t& 0.777\t\\\\\n",
      "GMM (Diag, Tied, 8 components, $\\alpha = 0.1$)\t\t& 0.759\t& 0.366\t& 0.763\t\\\\\n",
      "GMM (Diag, Tied, 8 components, $\\alpha = 0.5$)\t\t& 0.753\t& 0.340\t& 0.739\t\\\\\n",
      "GMM (Diag, Tied, 8 components, $\\alpha = 1$)\t\t& 0.728\t& 0.308\t& 0.668\t\\\\\n",
      "GMM (Diag, Tied, 16 components, $\\alpha = 0.1$)\t\t& 0.733\t& 0.351\t& 0.706\t\\\\\n",
      "GMM (Diag, Tied, 16 components, $\\alpha = 0.5$)\t\t& 0.764\t& 0.325\t& 0.775\t\\\\\n",
      "GMM (Diag, Tied, 16 components, $\\alpha = 1$)\t\t& 0.736\t& 0.311\t& 0.699\t\\\\\n",
      "StandardScaler\n",
      "Showing results for pi = [0.1, 0.5, 0.9]\n",
      "GMM (4 components, $\\alpha = 0.1$)\t\t& 0.858\t& 0.337\t& 0.892\t\\\\\n",
      "GMM (4 components, $\\alpha = 0.5$)\t\t& 0.886\t& 0.382\t& 0.865\t\\\\\n",
      "GMM (4 components, $\\alpha = 1$)\t\t& 0.675\t& 0.316\t& 0.803\t\\\\\n",
      "GMM (8 components, $\\alpha = 0.1$)\t\t& 0.893\t& 0.320\t& 0.859\t\\\\\n",
      "GMM (8 components, $\\alpha = 0.5$)\t\t& 0.802\t& 0.316\t& 0.892\t\\\\\n",
      "GMM (8 components, $\\alpha = 1$)\t\t& 0.683\t& 0.294\t& 0.828\t\\\\\n",
      "GMM (16 components, $\\alpha = 0.1$)\t\t& 0.922\t& 0.344\t& 0.861\t\\\\\n",
      "GMM (16 components, $\\alpha = 0.5$)\t\t& 0.762\t& 0.310\t& 0.857\t\\\\\n",
      "GMM (16 components, $\\alpha = 1$)\t\t& 0.670\t& 0.321\t& 0.906\t\\\\\n",
      "GMM (Diag, 4 components, $\\alpha = 0.1$)\t\t& 0.862\t& 0.399\t& 0.937\t\\\\\n",
      "GMM (Diag, 4 components, $\\alpha = 0.5$)\t\t& 0.846\t& 0.394\t& 0.950\t\\\\\n",
      "GMM (Diag, 4 components, $\\alpha = 1$)\t\t& 0.879\t& 0.355\t& 0.834\t\\\\\n",
      "GMM (Diag, 8 components, $\\alpha = 0.1$)\t\t& 0.820\t& 0.418\t& 0.923\t\\\\\n",
      "GMM (Diag, 8 components, $\\alpha = 0.5$)\t\t& 0.834\t& 0.346\t& 0.900\t\\\\\n",
      "GMM (Diag, 8 components, $\\alpha = 1$)\t\t& 0.807\t& 0.317\t& 0.823\t\\\\\n",
      "GMM (Diag, 16 components, $\\alpha = 0.1$)\t\t& 0.775\t& 0.344\t& 0.898\t\\\\\n",
      "GMM (Diag, 16 components, $\\alpha = 0.5$)\t\t& 0.847\t& 0.398\t& 0.923\t\\\\\n",
      "GMM (Diag, 16 components, $\\alpha = 1$)\t\t& 0.772\t& 0.326\t& 0.858\t\\\\\n",
      "GMM (Tied, 4 components, $\\alpha = 0.1$)\t\t& 0.807\t& 0.345\t& 0.883\t\\\\\n",
      "GMM (Tied, 4 components, $\\alpha = 0.5$)\t\t& 0.777\t& 0.326\t& 0.865\t\\\\\n",
      "GMM (Tied, 4 components, $\\alpha = 1$)\t\t& 0.748\t& 0.326\t& 0.891\t\\\\\n",
      "GMM (Tied, 8 components, $\\alpha = 0.1$)\t\t& 0.788\t& 0.320\t& 0.767\t\\\\\n",
      "GMM (Tied, 8 components, $\\alpha = 0.5$)\t\t& 0.733\t& 0.306\t& 0.838\t\\\\\n",
      "GMM (Tied, 8 components, $\\alpha = 1$)\t\t& 0.763\t& 0.314\t& 0.798\t\\\\\n",
      "GMM (Tied, 16 components, $\\alpha = 0.1$)\t\t& 0.754\t& 0.316\t& 0.758\t\\\\\n",
      "GMM (Tied, 16 components, $\\alpha = 0.5$)\t\t& 0.786\t& 0.306\t& 0.802\t\\\\\n",
      "GMM (Tied, 16 components, $\\alpha = 1$)\t\t& 0.727\t& 0.299\t& 0.744\t\\\\\n",
      "GMM (Diag, Tied, 4 components, $\\alpha = 0.1$)\t\t& 0.837\t& 0.387\t& 0.903\t\\\\\n",
      "GMM (Diag, Tied, 4 components, $\\alpha = 0.5$)\t\t& 0.811\t& 0.373\t& 0.884\t\\\\\n",
      "GMM (Diag, Tied, 4 components, $\\alpha = 1$)\t\t& 0.814\t& 0.360\t& 0.884\t\\\\\n",
      "GMM (Diag, Tied, 8 components, $\\alpha = 0.1$)\t\t& 0.916\t& 0.378\t& 0.836\t\\\\\n",
      "GMM (Diag, Tied, 8 components, $\\alpha = 0.5$)\t\t& 0.905\t& 0.345\t& 0.820\t\\\\\n",
      "GMM (Diag, Tied, 8 components, $\\alpha = 1$)\t\t& 0.825\t& 0.325\t& 0.774\t\\\\\n",
      "GMM (Diag, Tied, 16 components, $\\alpha = 0.1$)\t\t& 0.816\t& 0.365\t& 0.867\t\\\\\n",
      "GMM (Diag, Tied, 16 components, $\\alpha = 0.5$)\t\t& 0.772\t& 0.355\t& 0.805\t\\\\\n",
      "GMM (Diag, Tied, 16 components, $\\alpha = 1$)\t\t& 0.785\t& 0.326\t& 0.914\t\\\\\n"
     ]
    }
   ],
   "source": [
    "from tiblib.classification import GaussianMixtureClassifier\n",
    "\n",
    "X_train, X_test, y_train, y_test = load_wine()\n",
    "\n",
    "model = GaussianMixtureClassifier\n",
    "hyperparams = {'tied':[False, True],\n",
    "               'diag':[False, True],\n",
    "               'n_components':[4,8,16],\n",
    "               'alpha':[0.1, 0.5, 1]}\n",
    "prefix = 'gmm'\n",
    "pis = [0.1, 0.5, 0.9]\n",
    "gaussianizer = Gaussianizer()\n",
    "scaler = StandardScaler()\n",
    "pca1 = PCA(n_dims=9)\n",
    "pca2 = PCA(n_dims=5)\n",
    "preprocessings = [\n",
    "    [],\n",
    "    [gaussianizer],\n",
    "    [scaler],\n",
    "]\n",
    "for pr in preprocessings:\n",
    "    if len(pr) > 0:\n",
    "        filename = '_'.join([str(p) for p in pr])\n",
    "    else:\n",
    "        filename = 'no_preproc'\n",
    "    print(filename) # Prints current preprocessings in string form\n",
    "    grid_cv_multiprior(X_train, y_train, pis=pis,\n",
    "            preprocessing=pr,\n",
    "            classifier=model, hyperparams=hyperparams, filename=f'results/results_{prefix}_{filename}.csv')"
   ],
   "metadata": {
    "collapsed": false,
    "pycharm": {
     "name": "#%%\n"
    }
   }
  },
  {
   "cell_type": "markdown",
   "source": [
    "## SVC"
   ],
   "metadata": {
    "collapsed": false
   }
  },
  {
   "cell_type": "code",
   "execution_count": 3,
   "outputs": [
    {
     "name": "stdout",
     "output_type": "stream",
     "text": [
      "no_preproc\n",
      "Showing results for pi = [0.1, 0.5, 0.9]\n",
      "SVC (Linear, $C = 0.1$)\t\t& 0.927\t& 0.427\t& 0.879\t\\\\\n",
      "SVC (Poly, $C = 0.1$)\t\t& 1.000\t& 0.990\t& 1.065\t\\\\\n",
      "SVC (Linear, $C = 1$)\t\t& 1.000\t& 0.644\t& 0.932\t\\\\\n",
      "SVC (Poly, $C = 1$)\t\t& 1.000\t& 0.980\t& 1.019\t\\\\\n",
      "SVC (Linear, $C = 10$)\t\t& 1.000\t& 0.914\t& 1.006\t\\\\\n",
      "SVC (Poly, $C = 10$)\t\t& 1.000\t& 0.984\t& 1.050\t\\\\\n",
      "Gaussianizer\n",
      "Showing results for pi = [0.1, 0.5, 0.9]\n",
      "SVC (Linear, $C = 0.1$)\t\t& 0.843\t& 0.361\t& 0.803\t\\\\\n",
      "SVC (Poly, $C = 0.1$)\t\t& 1.000\t& 0.983\t& 1.081\t\\\\\n",
      "SVC (Linear, $C = 1$)\t\t& 0.838\t& 0.352\t& 0.817\t\\\\\n",
      "SVC (Poly, $C = 1$)\t\t& 0.998\t& 0.949\t& 1.112\t\\\\\n",
      "SVC (Linear, $C = 10$)\t\t& 0.861\t& 0.367\t& 0.896\t\\\\\n",
      "SVC (Poly, $C = 10$)\t\t& 1.000\t& 0.993\t& 1.050\t\\\\\n",
      "StandardScaler\n",
      "Showing results for pi = [0.1, 0.5, 0.9]\n",
      "SVC (Linear, $C = 0.1$)\t\t& 0.848\t& 0.340\t& 0.689\t\\\\\n",
      "SVC (Poly, $C = 0.1$)\t\t& 1.000\t& 0.972\t& 1.034\t\\\\\n",
      "SVC (Linear, $C = 1$)\t\t& 0.851\t& 0.348\t& 0.695\t\\\\\n",
      "SVC (Poly, $C = 1$)\t\t& 1.000\t& 0.982\t& 1.065\t\\\\\n",
      "SVC (Linear, $C = 10$)\t\t& 0.869\t& 0.360\t& 0.713\t\\\\\n",
      "SVC (Poly, $C = 10$)\t\t& 1.000\t& 0.994\t& 1.065\t\\\\\n"
     ]
    }
   ],
   "source": [
    "from tiblib.classification import SVC\n",
    "\n",
    "X_train, X_test, y_train, y_test = load_wine()\n",
    "\n",
    "model = SVC\n",
    "hyperparams = {'C':[1e-1, 1, 10],\n",
    "               'kernel': ['linear', 'poly'],\n",
    "               }\n",
    "prefix = 'svm'\n",
    "pis = [0.1, 0.5, 0.9]\n",
    "gaussianizer = Gaussianizer()\n",
    "scaler = StandardScaler()\n",
    "preprocessings = [\n",
    "    [],\n",
    "    [gaussianizer],\n",
    "    [scaler],\n",
    "]\n",
    "for pr in preprocessings:\n",
    "    if len(pr) > 0:\n",
    "        filename = '_'.join([str(p) for p in pr])\n",
    "    else:\n",
    "        filename = 'no_preproc'\n",
    "    print(filename) # Prints current preprocessings in string form\n",
    "    grid_cv_multiprior(X_train, y_train, pis=pis,\n",
    "            preprocessing=pr,\n",
    "            classifier=model, hyperparams=hyperparams, filename=f'results/results_{prefix}_{filename}.csv')"
   ],
   "metadata": {
    "collapsed": false,
    "pycharm": {
     "name": "#%%\n"
    }
   }
  },
  {
   "cell_type": "code",
   "execution_count": 4,
   "outputs": [
    {
     "name": "stdout",
     "output_type": "stream",
     "text": [
      "no_preproc\n",
      "Showing results for pi = [0.1, 0.5, 0.9]\n",
      "SVC (RBF, $C = 0.1$, $\\gamma = 0.36787944117144233$)\t\t& 0.792\t& 0.525\t& 0.922\t\\\\\n",
      "SVC (RBF, $C = 0.1$, $\\gamma = 0.1353352832366127$)\t\t& 0.867\t& 0.453\t& 0.795\t\\\\\n",
      "SVC (RBF, $C = 0.1$, $\\gamma = 0.04978706836786395$)\t\t& 0.962\t& 0.508\t& 0.934\t\\\\\n",
      "SVC (RBF, $C = 1$, $\\gamma = 0.36787944117144233$)\t\t& 0.649\t& 0.463\t& 0.718\t\\\\\n",
      "SVC (RBF, $C = 1$, $\\gamma = 0.1353352832366127$)\t\t& 0.684\t& 0.450\t& 0.718\t\\\\\n",
      "SVC (RBF, $C = 1$, $\\gamma = 0.04978706836786395$)\t\t& 0.775\t& 0.406\t& 0.846\t\\\\\n",
      "SVC (RBF, $C = 10$, $\\gamma = 0.36787944117144233$)\t\t& 0.672\t& 0.473\t& 0.712\t\\\\\n",
      "SVC (RBF, $C = 10$, $\\gamma = 0.1353352832366127$)\t\t& 0.710\t& 0.426\t& 0.746\t\\\\\n",
      "SVC (RBF, $C = 10$, $\\gamma = 0.04978706836786395$)\t\t& 0.736\t& 0.387\t& 0.851\t\\\\\n",
      "Gaussianizer\n",
      "Showing results for pi = [0.1, 0.5, 0.9]\n",
      "SVC (RBF, $C = 0.1$, $\\gamma = 0.36787944117144233$)\t\t& 0.754\t& 0.289\t& 0.730\t\\\\\n",
      "SVC (RBF, $C = 0.1$, $\\gamma = 0.1353352832366127$)\t\t& 0.715\t& 0.286\t& 0.697\t\\\\\n",
      "SVC (RBF, $C = 0.1$, $\\gamma = 0.04978706836786395$)\t\t& 0.747\t& 0.338\t& 0.750\t\\\\\n",
      "SVC (RBF, $C = 1$, $\\gamma = 0.36787944117144233$)\t\t& 0.609\t& 0.241\t& 0.523\t\\\\\n",
      "SVC (RBF, $C = 1$, $\\gamma = 0.1353352832366127$)\t\t& 0.594\t& 0.267\t& 0.615\t\\\\\n",
      "SVC (RBF, $C = 1$, $\\gamma = 0.04978706836786395$)\t\t& 0.660\t& 0.272\t& 0.639\t\\\\\n",
      "SVC (RBF, $C = 10$, $\\gamma = 0.36787944117144233$)\t\t& 0.530\t& 0.238\t& 0.644\t\\\\\n",
      "SVC (RBF, $C = 10$, $\\gamma = 0.1353352832366127$)\t\t& 0.571\t& 0.250\t& 0.608\t\\\\\n",
      "SVC (RBF, $C = 10$, $\\gamma = 0.04978706836786395$)\t\t& 0.684\t& 0.267\t& 0.687\t\\\\\n",
      "StandardScaler\n",
      "Showing results for pi = [0.1, 0.5, 0.9]\n",
      "SVC (RBF, $C = 0.1$, $\\gamma = 0.36787944117144233$)\t\t& 0.738\t& 0.295\t& 0.697\t\\\\\n",
      "SVC (RBF, $C = 0.1$, $\\gamma = 0.1353352832366127$)\t\t& 0.745\t& 0.307\t& 0.671\t\\\\\n",
      "SVC (RBF, $C = 0.1$, $\\gamma = 0.04978706836786395$)\t\t& 0.798\t& 0.347\t& 0.755\t\\\\\n",
      "SVC (RBF, $C = 1$, $\\gamma = 0.36787944117144233$)\t\t& 0.591\t& 0.236\t& 0.582\t\\\\\n",
      "SVC (RBF, $C = 1$, $\\gamma = 0.1353352832366127$)\t\t& 0.608\t& 0.254\t& 0.688\t\\\\\n",
      "SVC (RBF, $C = 1$, $\\gamma = 0.04978706836786395$)\t\t& 0.710\t& 0.276\t& 0.626\t\\\\\n",
      "SVC (RBF, $C = 10$, $\\gamma = 0.36787944117144233$)\t\t& 0.540\t& 0.245\t& 0.865\t\\\\\n",
      "SVC (RBF, $C = 10$, $\\gamma = 0.1353352832366127$)\t\t& 0.598\t& 0.226\t& 0.814\t\\\\\n",
      "SVC (RBF, $C = 10$, $\\gamma = 0.04978706836786395$)\t\t& 0.688\t& 0.255\t& 0.665\t\\\\\n"
     ]
    }
   ],
   "source": [
    "import numpy as np\n",
    "from tiblib.classification import SVC\n",
    "\n",
    "X_train, X_test, y_train, y_test = load_wine()\n",
    "\n",
    "model = SVC\n",
    "hyperparams = {'C':[1e-1, 1, 10],\n",
    "               'kernel': ['radial'],\n",
    "               'gamma' : [1/np.e, 1/np.e**2, 1/np.e**3]\n",
    "               }\n",
    "prefix = 'svm_rbf'\n",
    "pis = [0.1, 0.5, 0.9]\n",
    "gaussianizer = Gaussianizer()\n",
    "scaler = StandardScaler()\n",
    "preprocessings = [\n",
    "    [],\n",
    "    [gaussianizer],\n",
    "    [scaler],\n",
    "]\n",
    "for pr in preprocessings:\n",
    "    if len(pr) > 0:\n",
    "        filename = '_'.join([str(p) for p in pr])\n",
    "    else:\n",
    "        filename = 'no_preproc'\n",
    "    print(filename) # Prints current preprocessings in string form\n",
    "    grid_cv_multiprior(X_train, y_train, pis=pis,\n",
    "            preprocessing=pr,\n",
    "            classifier=model, hyperparams=hyperparams, filename=f'results/results_{prefix}_{filename}.csv')"
   ],
   "metadata": {
    "collapsed": false,
    "pycharm": {
     "name": "#%%\n"
    }
   }
  },
  {
   "cell_type": "markdown",
   "source": [
    "## Calibration"
   ],
   "metadata": {
    "collapsed": false
   }
  },
  {
   "cell_type": "code",
   "execution_count": 7,
   "outputs": [
    {
     "name": "stdout",
     "output_type": "stream",
     "text": [
      "gc1 & 0.311 & 0.330 & 0.325\n",
      "gc2 & 0.327 & 0.354 & 0.337\n",
      "qrl1 & 0.277 & 0.292 & 0.297\n",
      "qrl2 & 0.301 & 0.307 & 0.304\n",
      "svm1 & 0.243 & 0.249 & 0.246\n",
      "svm2 & 0.231 & 0.233 & 0.238\n",
      "gmm1 & 0.319 & 0.323 & 0.321\n",
      "gmm2 & 0.334 & 0.358 & 0.338\n"
     ]
    }
   ],
   "source": [
    "from tiblib.model_selection import Calibrate\n",
    "from tiblib.classification import QuadraticLogisticRegression, GaussianClassifier\n",
    "from tiblib.classification import GaussianMixtureClassifier, SVC, Pipeline\n",
    "from tiblib.preprocessing import Gaussianizer, StandardScaler, PCA\n",
    "\n",
    "X_train, _, y_train, _ = load_wine()\n",
    "\n",
    "g = Gaussianizer()\n",
    "ss = StandardScaler()\n",
    "pca = PCA(n_dims=9)\n",
    "gc = GaussianClassifier()\n",
    "qrl = QuadraticLogisticRegression(l=1e-3)\n",
    "svm1 = SVC(kernel='radial', gamma=1/np.e**2, C=10)\n",
    "svm2 = SVC(kernel='radial', gamma=1/np.e, C=1)\n",
    "gmm1 = GaussianMixtureClassifier(n_components=8)\n",
    "gmm2 = GaussianMixtureClassifier(n_components=16, tied=True)\n",
    "\n",
    "model1 = Pipeline(g, gc)\n",
    "model2 = Pipeline([ss, pca], gc)\n",
    "model3 = Pipeline([ss], qrl)\n",
    "model4 = Pipeline([ss, pca], qrl)\n",
    "model5 = Pipeline(ss, svm1)\n",
    "model6 = Pipeline(ss, svm2)\n",
    "model7 = Pipeline(ss, gmm1)\n",
    "model8 = Pipeline(g, gmm2)\n",
    "\n",
    "models = [model1, model2, model3, model4, model5, model6, model7, model8]\n",
    "names = ['gc1', 'gc2', 'qlr1', 'qlr2', 'svm1', 'svm2', 'gmm1', 'gmm2']\n",
    "\n",
    "for n, m in zip(names, models):\n",
    "    min_dcf, act_dcf, cal_dcf, scores, cal_scores = Calibrate(m, X_train, y_train)\n",
    "    print(f'{n} & {min_dcf:.3f} & {act_dcf:.3f} & {cal_dcf:.3f}')\n",
    "    np.save(f'results/scores_{n}', scores)\n",
    "    np.save(f'results/cal_scores_{n}', cal_scores)"
   ],
   "metadata": {
    "collapsed": false,
    "pycharm": {
     "name": "#%%\n"
    }
   }
  },
  {
   "cell_type": "markdown",
   "source": [
    "## Fusion"
   ],
   "metadata": {
    "collapsed": false
   }
  },
  {
   "cell_type": "code",
   "execution_count": 28,
   "outputs": [
    {
     "name": "stdout",
     "output_type": "stream",
     "text": [
      "QLR + SVM + GMM & 0.226 & 0.228 \\\\\n"
     ]
    }
   ],
   "source": [
    "from tiblib.model_selection import Fusion\n",
    "\n",
    "X_train, _, y_train, _ = load_wine()\n",
    "\n",
    "model_names = ['svm2', 'qlr1', 'gmm1']\n",
    "scores = []\n",
    "for n in model_names:\n",
    "    scores.append(np.load(f'results/cal_scores_{n}.npy').reshape(-1,1))\n",
    "scores = np.concatenate(scores, axis=1)\n",
    "\n",
    "min_dcf, act_dcf, fused_score = Fusion(scores,y_train)\n",
    "print(f'QLR + SVM + GMM & {min_dcf:.3} & {act_dcf:.3} \\\\\\\\')\n",
    "np.save(f'results/fusion_scores_{\"_\".join(model_names)}', fused_score)"
   ],
   "metadata": {
    "collapsed": false,
    "pycharm": {
     "name": "#%%\n"
    }
   }
  },
  {
   "cell_type": "code",
   "execution_count": 29,
   "outputs": [
    {
     "name": "stdout",
     "output_type": "stream",
     "text": [
      "QLR + SVM & 0.228 & 0.236 \\\\\n"
     ]
    }
   ],
   "source": [
    "from tiblib.model_selection import Fusion\n",
    "\n",
    "X_train, _, y_train, _ = load_wine()\n",
    "\n",
    "model_names = ['svm2', 'qlr1']\n",
    "scores = []\n",
    "for n in model_names:\n",
    "    scores.append(np.load(f'results/cal_scores_{n}.npy').reshape(-1,1))\n",
    "scores = np.concatenate(scores, axis=1)\n",
    "\n",
    "min_dcf, act_dcf, fused_score = Fusion(scores,y_train)\n",
    "print(f'QLR + SVM & {min_dcf:.3} & {act_dcf:.3} \\\\\\\\')\n",
    "np.save(f'results/fusion_scores_{\"_\".join(model_names)}', fused_score)"
   ],
   "metadata": {
    "collapsed": false,
    "pycharm": {
     "name": "#%%\n"
    }
   }
  },
  {
   "cell_type": "code",
   "execution_count": 30,
   "outputs": [
    {
     "name": "stdout",
     "output_type": "stream",
     "text": [
      "SVM + GMM & 0.228 & 0.237 \\\\\n"
     ]
    }
   ],
   "source": [
    "from tiblib.model_selection import Fusion\n",
    "\n",
    "X_train, _, y_train, _ = load_wine()\n",
    "\n",
    "model_names = ['svm2', 'gmm1']\n",
    "scores = []\n",
    "for n in model_names:\n",
    "    scores.append(np.load(f'results/cal_scores_{n}.npy').reshape(-1,1))\n",
    "scores = np.concatenate(scores, axis=1)\n",
    "\n",
    "min_dcf, act_dcf, fused_score = Fusion(scores,y_train)\n",
    "print(f'SVM + GMM & {min_dcf:.3} & {act_dcf:.3} \\\\\\\\')\n",
    "np.save(f'results/fusion_scores_{\"_\".join(model_names)}', fused_score)"
   ],
   "metadata": {
    "collapsed": false,
    "pycharm": {
     "name": "#%%\n"
    }
   }
  },
  {
   "cell_type": "code",
   "execution_count": 38,
   "outputs": [
    {
     "name": "stdout",
     "output_type": "stream",
     "text": [
      "QLR + GMM & 0.283 & 0.293 \\\\\n"
     ]
    }
   ],
   "source": [
    "from tiblib.model_selection import Fusion\n",
    "\n",
    "X_train, _, y_train, _ = load_wine()\n",
    "\n",
    "model_names = ['qlr1', 'gmm1']\n",
    "scores = []\n",
    "for n in model_names:\n",
    "    scores.append(np.load(f'results/cal_scores_{n}.npy').reshape(-1,1))\n",
    "scores = np.concatenate(scores, axis=1)\n",
    "\n",
    "min_dcf, act_dcf, fused_score = Fusion(scores,y_train)\n",
    "print(f'QLR + GMM & {min_dcf:.3} & {act_dcf:.3} \\\\\\\\')\n",
    "np.save(f'results/fusion_scores_{\"_\".join(model_names)}', fused_score)"
   ],
   "metadata": {
    "collapsed": false,
    "pycharm": {
     "name": "#%%\n"
    }
   }
  }
 ],
 "metadata": {
  "kernelspec": {
   "name": "pycharm-d2c9f13c",
   "language": "python",
   "display_name": "PyCharm (eurecom-malis)"
  },
  "language_info": {
   "codemirror_mode": {
    "name": "ipython",
    "version": 2
   },
   "file_extension": ".py",
   "mimetype": "text/x-python",
   "name": "python",
   "nbconvert_exporter": "python",
   "pygments_lexer": "ipython2",
   "version": "2.7.6"
  }
 },
 "nbformat": 4,
 "nbformat_minor": 0
}