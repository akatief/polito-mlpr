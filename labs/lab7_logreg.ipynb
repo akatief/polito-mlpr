{
 "cells": [
  {
   "cell_type": "markdown",
   "metadata": {
    "collapsed": true,
    "pycharm": {
     "name": "#%% md\n"
    }
   },
   "source": [
    "# Lab 7 - Logistic Regression\n",
    "## Imports"
   ]
  },
  {
   "cell_type": "code",
   "execution_count": 1,
   "outputs": [],
   "source": [
    "import pandas as pd\n",
    "import numpy as np\n",
    "from scipy.optimize import fmin_l_bfgs_b\n",
    "from tiblib.utils import load_iris_binary, train_test_split\n",
    "from tiblib.linear import BinaryLogisticRegression"
   ],
   "metadata": {
    "collapsed": false,
    "pycharm": {
     "name": "#%%\n"
    }
   }
  },
  {
   "cell_type": "markdown",
   "source": [
    "## Numerical optimization"
   ],
   "metadata": {
    "collapsed": false
   }
  },
  {
   "cell_type": "code",
   "execution_count": 2,
   "outputs": [
    {
     "name": "stdout",
     "output_type": "stream",
     "text": [
      "Minimum x: [-2.57747138 -0.99999927] Minimum f: -0.3561430123647649 func calls: 21\n",
      "Minimum x: [-2.57747137 -0.99999927] Minimum f: -0.3561430123647611 func calls: 7\n"
     ]
    }
   ],
   "source": [
    "def func(x):\n",
    "    y, z = x\n",
    "    return (y+3)**2 + np.sin(y) + (z+1)**2\n",
    "\n",
    "def func_d(x):\n",
    "    y, z = x\n",
    "\n",
    "    dy = 2*(y+3) + np.cos(y)\n",
    "    dz = 2*(z+1)\n",
    "    return func(x), np.array([dy,dz])\n",
    "x0 = np.array([0,0])\n",
    "\n",
    "x_min, f_min, d = fmin_l_bfgs_b(func, x0, approx_grad=True)\n",
    "print(f'Minimum x: {x_min} Minimum f: {f_min} func calls: {d[\"funcalls\"]}')\n",
    "x_min, f_min, d = fmin_l_bfgs_b(func_d, x0)\n",
    "print(f'Minimum x: {x_min} Minimum f: {f_min} func calls: {d[\"funcalls\"]}')"
   ],
   "metadata": {
    "collapsed": false,
    "pycharm": {
     "name": "#%%\n"
    }
   }
  },
  {
   "cell_type": "markdown",
   "source": [
    "## Loading"
   ],
   "metadata": {
    "collapsed": false
   }
  },
  {
   "cell_type": "code",
   "execution_count": 3,
   "outputs": [],
   "source": [
    "X, y = load_iris_binary()\n",
    "X_train, X_test, y_train, y_test = train_test_split(X, y, test_size=0.33)"
   ],
   "metadata": {
    "collapsed": false,
    "pycharm": {
     "name": "#%%\n"
    }
   }
  },
  {
   "cell_type": "markdown",
   "source": [
    "## Binary Logistic Regression"
   ],
   "metadata": {
    "collapsed": false,
    "pycharm": {
     "name": "#%% md\n"
    }
   }
  },
  {
   "cell_type": "code",
   "execution_count": 4,
   "outputs": [
    {
     "name": "stdout",
     "output_type": "stream",
     "text": [
      "Error rate: 0.10447761194029848 F min: 0.0021194959678321156\n"
     ]
    }
   ],
   "source": [
    "blr = BinaryLogisticRegression(1e-6)\n",
    "blr.fit(X_train,y_train)\n",
    "y_pred, _, f_min = blr.predict(X_test, return_probs=True)\n",
    "print(f'Error rate: {1-blr.score(X_test,y_test)} F min: {f_min}')"
   ],
   "metadata": {
    "collapsed": false,
    "pycharm": {
     "name": "#%%\n"
    }
   }
  }
 ],
 "metadata": {
  "kernelspec": {
   "name": "pycharm-d2c9f13c",
   "language": "python",
   "display_name": "PyCharm (eurecom-malis)"
  },
  "language_info": {
   "codemirror_mode": {
    "name": "ipython",
    "version": 2
   },
   "file_extension": ".py",
   "mimetype": "text/x-python",
   "name": "python",
   "nbconvert_exporter": "python",
   "pygments_lexer": "ipython2",
   "version": "2.7.6"
  }
 },
 "nbformat": 4,
 "nbformat_minor": 0
}